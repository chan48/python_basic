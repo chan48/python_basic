{
 "cells": [
  {
   "cell_type": "code",
   "execution_count": 10,
   "metadata": {
    "collapsed": false
   },
   "outputs": [
    {
     "name": "stdout",
     "output_type": "stream",
     "text": [
      "Collecting seaborn\n",
      "  Using cached seaborn-0.7.1.tar.gz\n",
      "Collecting scipy (from seaborn)\n",
      "  Downloading scipy-0.18.0-cp35-cp35m-macosx_10_6_intel.macosx_10_9_intel.macosx_10_9_x86_64.macosx_10_10_intel.macosx_10_10_x86_64.whl (21.0MB)\n",
      "\u001b[K    100% |████████████████████████████████| 21.0MB 49kB/s \n",
      "\u001b[?25hRequirement already up-to-date: numpy>=1.7.1 in /Library/Frameworks/Python.framework/Versions/3.5/lib/python3.5/site-packages (from scipy->seaborn)\n",
      "Building wheels for collected packages: seaborn\n",
      "  Running setup.py bdist_wheel for seaborn ... \u001b[?25l-\b \b\\\b \bdone\n",
      "\u001b[?25h  Stored in directory: /Users/MoonYongJoon/Library/Caches/pip/wheels/cb/c8/67/83d615c0ef9b529558525aa521025b183de8c5b156799b091e\n",
      "Successfully built seaborn\n",
      "Installing collected packages: scipy, seaborn\n",
      "Successfully installed scipy-0.18.0 seaborn-0.7.1\n"
     ]
    }
   ],
   "source": [
    "!pip3 install seaborn --upgrade"
   ]
  },
  {
   "cell_type": "code",
   "execution_count": 14,
   "metadata": {
    "collapsed": false
   },
   "outputs": [
    {
     "name": "stdout",
     "output_type": "stream",
     "text": [
      "cycler (0.10.0)\r\n",
      "matplotlib (1.5.2)\r\n",
      "numpy (1.11.1)\r\n",
      "objgraph (2.0.1)\r\n",
      "pandas (0.18.1)\r\n",
      "pip (8.1.2)\r\n",
      "protobuf (3.0.0b2)\r\n",
      "pyparsing (2.1.8)\r\n",
      "python-dateutil (2.5.3)\r\n",
      "pytz (2016.6.1)\r\n",
      "scipy (0.18.0)\r\n",
      "seaborn (0.7.1)\r\n",
      "setuptools (26.1.1)\r\n",
      "six (1.10.0)\r\n",
      "tensorflow (0.8.0)\r\n",
      "wheel (0.29.0)\r\n"
     ]
    }
   ],
   "source": [
    "!pip3 list"
   ]
  },
  {
   "cell_type": "code",
   "execution_count": 13,
   "metadata": {
    "collapsed": false
   },
   "outputs": [
    {
     "name": "stdout",
     "output_type": "stream",
     "text": [
      "Python 3.5.1\r\n"
     ]
    }
   ],
   "source": [
    "!python3 --version"
   ]
  },
  {
   "cell_type": "code",
   "execution_count": 15,
   "metadata": {
    "collapsed": false
   },
   "outputs": [
    {
     "name": "stdout",
     "output_type": "stream",
     "text": [
      "appnope (0.1.0)\r\n",
      "backports-abc (0.4)\r\n",
      "backports.shutil-get-terminal-size (1.0.0)\r\n",
      "backports.ssl-match-hostname (3.4.0.2)\r\n",
      "certifi (2016.2.28)\r\n",
      "configparser (3.5.0)\r\n",
      "cycler (0.10.0)\r\n",
      "decorator (4.0.10)\r\n",
      "entrypoints (0.2.2)\r\n",
      "functools32 (3.2.3.post2)\r\n",
      "future (0.15.2)\r\n",
      "futures (3.0.5)\r\n",
      "ipykernel (4.3.1)\r\n",
      "ipython (5.0.0)\r\n",
      "ipython-genutils (0.1.0)\r\n",
      "ipywidgets (5.2.2)\r\n",
      "Jinja2 (2.8)\r\n",
      "jsonschema (2.5.1)\r\n",
      "jupyter (1.0.0)\r\n",
      "jupyter-client (4.3.0)\r\n",
      "jupyter-console (5.0.0)\r\n",
      "jupyter-core (4.1.0)\r\n",
      "MarkupSafe (0.23)\r\n",
      "matplotlib (1.5.1)\r\n",
      "mistune (0.7.2)\r\n",
      "mpmath (0.19)\r\n",
      "nbconvert (4.2.0)\r\n",
      "nbformat (4.0.1)\r\n",
      "notebook (4.2.1)\r\n",
      "numpy (1.11.1)\r\n",
      "pandas (0.18.1)\r\n",
      "path.py (0.0.0)\r\n",
      "pathlib2 (2.1.0)\r\n",
      "pexpect (4.0.1)\r\n",
      "pickleshare (0.7.3)\r\n",
      "Pillow (3.3.0)\r\n",
      "pip (8.1.2)\r\n",
      "prompt-toolkit (1.0.3)\r\n",
      "protobuf (3.0.0b2)\r\n",
      "ptyprocess (0.5.1)\r\n",
      "Pygments (2.1.3)\r\n",
      "pyparsing (2.1.5)\r\n",
      "python-dateutil (2.5.3)\r\n",
      "pytz (2016.6.1)\r\n",
      "pyzmq (15.3.0)\r\n",
      "qtconsole (4.2.1)\r\n",
      "scipy (0.18.0)\r\n",
      "seaborn (0.7.1)\r\n",
      "setuptools (25.0.0)\r\n",
      "simplegeneric (0.8.1)\r\n",
      "singledispatch (3.4.0.3)\r\n",
      "six (1.10.0)\r\n",
      "sympy (1.0)\r\n",
      "tensorflow (0.8.0)\r\n",
      "terminado (0.6)\r\n",
      "tflearn (0.2.1)\r\n",
      "tornado (4.4.1)\r\n",
      "traitlets (4.2.2)\r\n",
      "wcwidth (0.1.7)\r\n",
      "wheel (0.29.0)\r\n",
      "widgetsnbextension (1.2.6)\r\n"
     ]
    }
   ],
   "source": [
    "!pip list"
   ]
  },
  {
   "cell_type": "code",
   "execution_count": 16,
   "metadata": {
    "collapsed": true
   },
   "outputs": [],
   "source": [
    "import decorator"
   ]
  },
  {
   "cell_type": "code",
   "execution_count": null,
   "metadata": {
    "collapsed": true
   },
   "outputs": [],
   "source": []
  }
 ],
 "metadata": {
  "kernelspec": {
   "display_name": "Python 3",
   "language": "python",
   "name": "python3"
  },
  "language_info": {
   "codemirror_mode": {
    "name": "ipython",
    "version": 3
   },
   "file_extension": ".py",
   "mimetype": "text/x-python",
   "name": "python",
   "nbconvert_exporter": "python",
   "pygments_lexer": "ipython3",
   "version": "3.5.2"
  }
 },
 "nbformat": 4,
 "nbformat_minor": 1
}
