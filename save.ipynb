{
 "cells": [
  {
   "cell_type": "code",
   "execution_count": 2,
   "metadata": {
    "collapsed": false
   },
   "outputs": [
    {
     "name": "stdout",
     "output_type": "stream",
     "text": [
      "alabaster (0.7.7)\n",
      "anaconda-client (1.4.0)\n",
      "anaconda-navigator (1.1.0)\n",
      "appnope (0.1.0)\n",
      "appscript (1.0.1)\n",
      "argcomplete (1.0.0)\n",
      "astropy (1.1.2)\n",
      "Babel (2.2.0)\n",
      "backports-abc (0.4)\n",
      "backports.ssl-match-hostname (3.4.0.2)\n",
      "beautifulsoup4 (4.4.1)\n",
      "bitarray (0.8.1)\n",
      "blaze (0.9.1)\n",
      "bokeh (0.11.1)\n",
      "boto (2.39.0)\n",
      "Bottleneck (1.0.0)\n",
      "cdecimal (2.3)\n",
      "cffi (1.5.2)\n",
      "chest (0.2.3)\n",
      "cloudpickle (0.1.1)\n",
      "clyent (1.2.1)\n",
      "colorama (0.3.7)\n",
      "conda (4.0.5)\n",
      "conda-build (0+unknown)\n",
      "conda-env (2.4.5)\n",
      "conda-manager (0.3.1)\n",
      "configobj (5.0.6)\n",
      "cryptography (1.3)\n",
      "cycler (0.10.0)\n",
      "Cython (0.23.4)\n",
      "cytoolz (0.7.5)\n",
      "dask (0.8.1)\n",
      "datashape (0.5.1)\n",
      "decorator (4.0.9)\n",
      "dill (0.2.4)\n",
      "docutils (0.12)\n",
      "dynd (0.7.3.dev1)\n",
      "enum34 (1.1.2)\n",
      "et-xmlfile (1.0.1)\n",
      "fastcache (1.0.2)\n",
      "Flask (0.10.1)\n",
      "Flask-Cors (2.1.2)\n",
      "funcsigs (0.4)\n",
      "futures (3.0.3)\n",
      "gevent (1.1.0)\n",
      "greenlet (0.4.9)\n",
      "grin (1.2.1)\n",
      "h5py (2.5.0)\n",
      "HeapDict (1.0.0)\n",
      "idna (2.0)\n",
      "ipaddress (1.0.14)\n",
      "ipykernel (4.3.1)\n",
      "ipython (4.1.2)\n",
      "ipython-genutils (0.1.0)\n",
      "ipywidgets (4.1.1)\n",
      "itsdangerous (0.24)\n",
      "jdcal (1.2)\n",
      "jedi (0.9.0)\n",
      "Jinja2 (2.8)\n",
      "jsonschema (2.4.0)\n",
      "jupyter (1.0.0)\n",
      "jupyter-client (4.2.2)\n",
      "jupyter-console (4.1.1)\n",
      "jupyter-core (4.1.0)\n",
      "llvmlite (0.9.0)\n",
      "locket (0.2.0)\n",
      "lxml (3.6.0)\n",
      "MarkupSafe (0.23)\n",
      "matplotlib (1.5.1)\n",
      "mistune (0.7.2)\n",
      "mpmath (0.19)\n",
      "multipledispatch (0.4.8)\n",
      "nbconvert (4.1.0)\n",
      "nbformat (4.0.1)\n",
      "networkx (1.11)\n",
      "nltk (3.2)\n",
      "nose (1.3.7)\n",
      "notebook (4.1.0)\n",
      "numba (0.24.0)\n",
      "numexpr (2.5)\n",
      "numpy (1.10.4)\n",
      "odo (0.4.2)\n",
      "openpyxl (2.3.2)\n",
      "pandas (0.18.0)\n",
      "partd (0.3.2)\n",
      "path.py (0.0.0)\n",
      "patsy (0.4.0)\n",
      "pep8 (1.7.0)\n",
      "pexpect (4.0.1)\n",
      "pickleshare (0.5)\n",
      "Pillow (3.1.1)\n",
      "pip (8.1.1)\n",
      "ply (3.8)\n",
      "psutil (4.1.0)\n",
      "ptyprocess (0.5)\n",
      "py (1.4.31)\n",
      "pyasn1 (0.1.9)\n",
      "PyAudio (0.2.7)\n",
      "pycosat (0.6.1)\n",
      "pycparser (2.14)\n",
      "pycrypto (2.6.1)\n",
      "pycurl (7.19.5.3)\n",
      "pyflakes (1.1.0)\n",
      "Pygments (2.1.1)\n",
      "pyOpenSSL (0.15.1)\n",
      "pyparsing (2.0.3)\n",
      "pytest (2.8.5)\n",
      "python-dateutil (2.5.1)\n",
      "pytz (2016.2)\n",
      "PyYAML (3.11)\n",
      "pyzmq (15.2.0)\n",
      "QtAwesome (0.3.2)\n",
      "qtconsole (4.2.0)\n",
      "QtPy (1.0)\n",
      "redis (2.10.3)\n",
      "requests (2.9.1)\n",
      "rope (0.9.4)\n",
      "scikit-image (0.12.3)\n",
      "scikit-learn (0.17.1)\n",
      "scipy (0.17.0)\n",
      "setuptools (20.3)\n",
      "simplegeneric (0.8.1)\n",
      "singledispatch (3.4.0.3)\n",
      "six (1.10.0)\n",
      "snowballstemmer (1.2.1)\n",
      "sockjs-tornado (1.0.1)\n",
      "Sphinx (1.3.5)\n",
      "sphinx-rtd-theme (0.1.9)\n",
      "spyder (2.3.8)\n",
      "SQLAlchemy (1.0.12)\n",
      "statsmodels (0.6.1)\n",
      "sympy (1.0)\n",
      "tables (3.2.2)\n",
      "terminado (0.5)\n",
      "toolz (0.7.4)\n",
      "tornado (4.3)\n",
      "traitlets (4.2.1)\n",
      "unicodecsv (0.14.1)\n",
      "Werkzeug (0.11.4)\n",
      "wheel (0.29.0)\n",
      "xlrd (0.9.4)\n",
      "XlsxWriter (0.8.4)\n",
      "xlwings (0.7.0)\n",
      "xlwt (1.0.0)\n",
      "\u001b[33mYou are using pip version 8.1.1, however version 8.1.2 is available.\n",
      "You should consider upgrading via the 'pip install --upgrade pip' command.\u001b[0m\n"
     ]
    }
   ],
   "source": [
    "!pip list"
   ]
  },
  {
   "cell_type": "code",
   "execution_count": 4,
   "metadata": {
    "collapsed": false
   },
   "outputs": [
    {
     "name": "stdout",
     "output_type": "stream",
     "text": [
      "Collecting pip\n",
      "  Downloading pip-8.1.2-py2.py3-none-any.whl (1.2MB)\n",
      "\u001b[K    100% |████████████████████████████████| 1.2MB 391kB/s \n",
      "\u001b[?25hInstalling collected packages: pip\n",
      "  Found existing installation: pip 8.1.1\n",
      "    Uninstalling pip-8.1.1:\n",
      "      Successfully uninstalled pip-8.1.1\n",
      "Successfully installed pip-8.1.2\n"
     ]
    }
   ],
   "source": [
    "!pip install pip --upgrade"
   ]
  },
  {
   "cell_type": "code",
   "execution_count": 5,
   "metadata": {
    "collapsed": false
   },
   "outputs": [
    {
     "name": "stdout",
     "output_type": "stream",
     "text": [
      "Requirement already up-to-date: matplotlib in /Users/MoonYongJoon/anaconda/lib/python2.7/site-packages\n",
      "Collecting numpy>=1.6 (from matplotlib)\n",
      "  Downloading numpy-1.11.1-cp27-cp27m-macosx_10_6_intel.macosx_10_9_intel.macosx_10_9_x86_64.macosx_10_10_intel.macosx_10_10_x86_64.whl (3.9MB)\n",
      "\u001b[K    100% |████████████████████████████████| 3.9MB 141kB/s \n",
      "\u001b[?25hCollecting python-dateutil (from matplotlib)\n",
      "  Downloading python_dateutil-2.5.3-py2.py3-none-any.whl (201kB)\n",
      "\u001b[K    100% |████████████████████████████████| 204kB 2.0MB/s \n",
      "\u001b[?25hCollecting pytz (from matplotlib)\n",
      "  Downloading pytz-2016.6.1-py2.py3-none-any.whl (481kB)\n",
      "\u001b[K    100% |████████████████████████████████| 481kB 999kB/s \n",
      "\u001b[?25hRequirement already up-to-date: cycler in /Users/MoonYongJoon/anaconda/lib/python2.7/site-packages (from matplotlib)\n",
      "Collecting pyparsing!=2.0.4,>=1.5.6 (from matplotlib)\n",
      "  Downloading pyparsing-2.1.5-py2.py3-none-any.whl (42kB)\n",
      "\u001b[K    100% |████████████████████████████████| 51kB 4.3MB/s \n",
      "\u001b[?25hRequirement already up-to-date: six>=1.5 in /Users/MoonYongJoon/anaconda/lib/python2.7/site-packages (from python-dateutil->matplotlib)\n",
      "Installing collected packages: numpy, python-dateutil, pytz, pyparsing\n",
      "  Found existing installation: numpy 1.10.4\n",
      "\u001b[33m    DEPRECATION: Uninstalling a distutils installed project (numpy) has been deprecated and will be removed in a future version. This is due to the fact that uninstalling a distutils project will only partially uninstall the project.\u001b[0m\n",
      "    Uninstalling numpy-1.10.4:\n",
      "      Successfully uninstalled numpy-1.10.4\n",
      "  Found existing installation: python-dateutil 2.5.1\n",
      "    Uninstalling python-dateutil-2.5.1:\n",
      "      Successfully uninstalled python-dateutil-2.5.1\n",
      "  Found existing installation: pytz 2016.2\n",
      "\u001b[33m    DEPRECATION: Uninstalling a distutils installed project (pytz) has been deprecated and will be removed in a future version. This is due to the fact that uninstalling a distutils project will only partially uninstall the project.\u001b[0m\n",
      "    Uninstalling pytz-2016.2:\n",
      "      Successfully uninstalled pytz-2016.2\n",
      "  Found existing installation: pyparsing 2.0.3\n",
      "\u001b[33m    DEPRECATION: Uninstalling a distutils installed project (pyparsing) has been deprecated and will be removed in a future version. This is due to the fact that uninstalling a distutils project will only partially uninstall the project.\u001b[0m\n",
      "    Uninstalling pyparsing-2.0.3:\n",
      "      Successfully uninstalled pyparsing-2.0.3\n",
      "Successfully installed numpy-1.11.1 pyparsing-2.1.5 python-dateutil-2.5.3 pytz-2016.6.1\n"
     ]
    }
   ],
   "source": [
    "!pip install matplotlib --upgrade"
   ]
  },
  {
   "cell_type": "code",
   "execution_count": 6,
   "metadata": {
    "collapsed": false,
    "scrolled": false
   },
   "outputs": [
    {
     "name": "stdout",
     "output_type": "stream",
     "text": [
      "alabaster (0.7.7)\n",
      "anaconda-client (1.4.0)\n",
      "anaconda-navigator (1.1.0)\n",
      "appnope (0.1.0)\n",
      "appscript (1.0.1)\n",
      "argcomplete (1.0.0)\n",
      "astropy (1.1.2)\n",
      "Babel (2.2.0)\n",
      "backports-abc (0.4)\n",
      "backports.ssl-match-hostname (3.4.0.2)\n",
      "beautifulsoup4 (4.4.1)\n",
      "bitarray (0.8.1)\n",
      "blaze (0.9.1)\n",
      "bokeh (0.11.1)\n",
      "boto (2.39.0)\n",
      "Bottleneck (1.0.0)\n",
      "cdecimal (2.3)\n",
      "cffi (1.5.2)\n",
      "chest (0.2.3)\n",
      "cloudpickle (0.1.1)\n",
      "clyent (1.2.1)\n",
      "colorama (0.3.7)\n",
      "conda (4.0.5)\n",
      "conda-build (0+unknown)\n",
      "conda-env (2.4.5)\n",
      "conda-manager (0.3.1)\n",
      "configobj (5.0.6)\n",
      "cryptography (1.3)\n",
      "cycler (0.10.0)\n",
      "Cython (0.23.4)\n",
      "cytoolz (0.7.5)\n",
      "dask (0.8.1)\n",
      "datashape (0.5.1)\n",
      "decorator (4.0.9)\n",
      "dill (0.2.4)\n",
      "docutils (0.12)\n",
      "dynd (0.7.3.dev1)\n",
      "enum34 (1.1.2)\n",
      "et-xmlfile (1.0.1)\n",
      "fastcache (1.0.2)\n",
      "Flask (0.10.1)\n",
      "Flask-Cors (2.1.2)\n",
      "funcsigs (0.4)\n",
      "futures (3.0.3)\n",
      "gevent (1.1.0)\n",
      "greenlet (0.4.9)\n",
      "grin (1.2.1)\n",
      "h5py (2.5.0)\n",
      "HeapDict (1.0.0)\n",
      "idna (2.0)\n",
      "ipaddress (1.0.14)\n",
      "ipykernel (4.3.1)\n",
      "ipython (4.1.2)\n",
      "ipython-genutils (0.1.0)\n",
      "ipywidgets (4.1.1)\n",
      "itsdangerous (0.24)\n",
      "jdcal (1.2)\n",
      "jedi (0.9.0)\n",
      "Jinja2 (2.8)\n",
      "jsonschema (2.4.0)\n",
      "jupyter (1.0.0)\n",
      "jupyter-client (4.2.2)\n",
      "jupyter-console (4.1.1)\n",
      "jupyter-core (4.1.0)\n",
      "llvmlite (0.9.0)\n",
      "locket (0.2.0)\n",
      "lxml (3.6.0)\n",
      "MarkupSafe (0.23)\n",
      "matplotlib (1.5.1)\n",
      "mistune (0.7.2)\n",
      "mpmath (0.19)\n",
      "multipledispatch (0.4.8)\n",
      "nbconvert (4.1.0)\n",
      "nbformat (4.0.1)\n",
      "networkx (1.11)\n",
      "nltk (3.2)\n",
      "nose (1.3.7)\n",
      "notebook (4.1.0)\n",
      "numba (0.24.0)\n",
      "numexpr (2.5)\n",
      "numpy (1.11.1)\n",
      "odo (0.4.2)\n",
      "openpyxl (2.3.2)\n",
      "pandas (0.18.0)\n",
      "partd (0.3.2)\n",
      "path.py (0.0.0)\n",
      "patsy (0.4.0)\n",
      "pep8 (1.7.0)\n",
      "pexpect (4.0.1)\n",
      "pickleshare (0.5)\n",
      "Pillow (3.1.1)\n",
      "pip (8.1.2)\n",
      "ply (3.8)\n",
      "psutil (4.1.0)\n",
      "ptyprocess (0.5)\n",
      "py (1.4.31)\n",
      "pyasn1 (0.1.9)\n",
      "PyAudio (0.2.7)\n",
      "pycosat (0.6.1)\n",
      "pycparser (2.14)\n",
      "pycrypto (2.6.1)\n",
      "pycurl (7.19.5.3)\n",
      "pyflakes (1.1.0)\n",
      "Pygments (2.1.1)\n",
      "pyOpenSSL (0.15.1)\n",
      "pyparsing (2.1.5)\n",
      "pytest (2.8.5)\n",
      "python-dateutil (2.5.3)\n",
      "pytz (2016.6.1)\n",
      "PyYAML (3.11)\n",
      "pyzmq (15.2.0)\n",
      "QtAwesome (0.3.2)\n",
      "qtconsole (4.2.0)\n",
      "QtPy (1.0)\n",
      "redis (2.10.3)\n",
      "requests (2.9.1)\n",
      "rope (0.9.4)\n",
      "scikit-image (0.12.3)\n",
      "scikit-learn (0.17.1)\n",
      "scipy (0.17.0)\n",
      "setuptools (20.3)\n",
      "simplegeneric (0.8.1)\n",
      "singledispatch (3.4.0.3)\n",
      "six (1.10.0)\n",
      "snowballstemmer (1.2.1)\n",
      "sockjs-tornado (1.0.1)\n",
      "Sphinx (1.3.5)\n",
      "sphinx-rtd-theme (0.1.9)\n",
      "spyder (2.3.8)\n",
      "SQLAlchemy (1.0.12)\n",
      "statsmodels (0.6.1)\n",
      "sympy (1.0)\n",
      "tables (3.2.2)\n",
      "terminado (0.5)\n",
      "toolz (0.7.4)\n",
      "tornado (4.3)\n",
      "traitlets (4.2.1)\n",
      "unicodecsv (0.14.1)\n",
      "Werkzeug (0.11.4)\n",
      "wheel (0.29.0)\n",
      "xlrd (0.9.4)\n",
      "XlsxWriter (0.8.4)\n",
      "xlwings (0.7.0)\n",
      "xlwt (1.0.0)\n"
     ]
    }
   ],
   "source": [
    "!pip list"
   ]
  },
  {
   "cell_type": "code",
   "execution_count": 8,
   "metadata": {
    "collapsed": false
   },
   "outputs": [
    {
     "name": "stdout",
     "output_type": "stream",
     "text": [
      "Requirement already up-to-date: six in /Users/MoonYongJoon/anaconda/lib/python2.7/site-packages\r\n"
     ]
    }
   ],
   "source": [
    "!pip install six --upgrade"
   ]
  },
  {
   "cell_type": "code",
   "execution_count": 9,
   "metadata": {
    "collapsed": true
   },
   "outputs": [],
   "source": [
    "%matplotlib inline"
   ]
  },
  {
   "cell_type": "code",
   "execution_count": 1,
   "metadata": {
    "collapsed": false
   },
   "outputs": [
    {
     "data": {
      "image/png": "[encoded data removed]",
      "text/plain": [
       "<matplotlib.figure.Figure at 0x105bd8810>"
      ]
     },
     "metadata": {},
     "output_type": "display_data"
    }
   ],
   "source": [
    "%matplotlib inline\n",
    "import numpy as np\n",
    "num_points = 1000\n",
    "vectors_set = []\n",
    "for i in xrange(num_points):\n",
    "    x1= np.random.normal(0.0, 0.55)\n",
    "    y1= x1 * 0.1 + 0.3 + np.random.normal(0.0, 0.03)\n",
    "    vectors_set.append([x1, y1])\n",
    "\n",
    "x_data = [v[0] for v in vectors_set]\n",
    "y_data = [v[1] for v in vectors_set]\n",
    "\n",
    "import matplotlib.pyplot as plt\n",
    "\n",
    "plt.plot(x_data, y_data, 'ro', label='Original data')\n",
    "plt.legend()\n",
    "plt.show()"
   ]
  },
  {
   "cell_type": "code",
   "execution_count": 11,
   "metadata": {
    "collapsed": false
   },
   "outputs": [
    {
     "name": "stdout",
     "output_type": "stream",
     "text": [
      "python: can't open file 'version': [Errno 2] No such file or directory\r\n"
     ]
    }
   ],
   "source": [
    "!python version"
   ]
  },
  {
   "cell_type": "code",
   "execution_count": 12,
   "metadata": {
    "collapsed": false
   },
   "outputs": [
    {
     "name": "stdout",
     "output_type": "stream",
     "text": [
      "python: can't open file 'list': [Errno 2] No such file or directory\r\n"
     ]
    }
   ],
   "source": [
    "!python list"
   ]
  },
  {
   "cell_type": "code",
   "execution_count": 13,
   "metadata": {
    "collapsed": false
   },
   "outputs": [
    {
     "name": "stdout",
     "output_type": "stream",
     "text": [
      "alabaster (0.7.7)\n",
      "anaconda-client (1.4.0)\n",
      "anaconda-navigator (1.1.0)\n",
      "appnope (0.1.0)\n",
      "appscript (1.0.1)\n",
      "argcomplete (1.0.0)\n",
      "astropy (1.1.2)\n",
      "Babel (2.2.0)\n",
      "backports-abc (0.4)\n",
      "backports.ssl-match-hostname (3.4.0.2)\n",
      "beautifulsoup4 (4.4.1)\n",
      "bitarray (0.8.1)\n",
      "blaze (0.9.1)\n",
      "bokeh (0.11.1)\n",
      "boto (2.39.0)\n",
      "Bottleneck (1.0.0)\n",
      "cdecimal (2.3)\n",
      "cffi (1.5.2)\n",
      "chest (0.2.3)\n",
      "cloudpickle (0.1.1)\n",
      "clyent (1.2.1)\n",
      "colorama (0.3.7)\n",
      "conda (4.0.5)\n",
      "conda-build (0+unknown)\n",
      "conda-env (2.4.5)\n",
      "conda-manager (0.3.1)\n",
      "configobj (5.0.6)\n",
      "cryptography (1.3)\n",
      "cycler (0.10.0)\n",
      "Cython (0.23.4)\n",
      "cytoolz (0.7.5)\n",
      "dask (0.8.1)\n",
      "datashape (0.5.1)\n",
      "decorator (4.0.9)\n",
      "dill (0.2.4)\n",
      "docutils (0.12)\n",
      "dynd (0.7.3.dev1)\n",
      "enum34 (1.1.2)\n",
      "et-xmlfile (1.0.1)\n",
      "fastcache (1.0.2)\n",
      "Flask (0.10.1)\n",
      "Flask-Cors (2.1.2)\n",
      "funcsigs (0.4)\n",
      "futures (3.0.3)\n",
      "gevent (1.1.0)\n",
      "greenlet (0.4.9)\n",
      "grin (1.2.1)\n",
      "h5py (2.5.0)\n",
      "HeapDict (1.0.0)\n",
      "idna (2.0)\n",
      "ipaddress (1.0.14)\n",
      "ipykernel (4.3.1)\n",
      "ipython (4.1.2)\n",
      "ipython-genutils (0.1.0)\n",
      "ipywidgets (4.1.1)\n",
      "itsdangerous (0.24)\n",
      "jdcal (1.2)\n",
      "jedi (0.9.0)\n",
      "Jinja2 (2.8)\n",
      "jsonschema (2.4.0)\n",
      "jupyter (1.0.0)\n",
      "jupyter-client (4.2.2)\n",
      "jupyter-console (4.1.1)\n",
      "jupyter-core (4.1.0)\n",
      "llvmlite (0.9.0)\n",
      "locket (0.2.0)\n",
      "lxml (3.6.0)\n",
      "MarkupSafe (0.23)\n",
      "matplotlib (1.5.1)\n",
      "mistune (0.7.2)\n",
      "mpmath (0.19)\n",
      "multipledispatch (0.4.8)\n",
      "nbconvert (4.1.0)\n",
      "nbformat (4.0.1)\n",
      "networkx (1.11)\n",
      "nltk (3.2)\n",
      "nose (1.3.7)\n",
      "notebook (4.1.0)\n",
      "numba (0.24.0)\n",
      "numexpr (2.5)\n",
      "numpy (1.11.1)\n",
      "odo (0.4.2)\n",
      "openpyxl (2.3.2)\n",
      "pandas (0.18.0)\n",
      "partd (0.3.2)\n",
      "path.py (0.0.0)\n",
      "patsy (0.4.0)\n",
      "pep8 (1.7.0)\n",
      "pexpect (4.0.1)\n",
      "pickleshare (0.5)\n",
      "Pillow (3.1.1)\n",
      "pip (8.1.2)\n",
      "ply (3.8)\n",
      "psutil (4.1.0)\n",
      "ptyprocess (0.5)\n",
      "py (1.4.31)\n",
      "pyasn1 (0.1.9)\n",
      "PyAudio (0.2.7)\n",
      "pycosat (0.6.1)\n",
      "pycparser (2.14)\n",
      "pycrypto (2.6.1)\n",
      "pycurl (7.19.5.3)\n",
      "pyflakes (1.1.0)\n",
      "Pygments (2.1.1)\n",
      "pyOpenSSL (0.15.1)\n",
      "pyparsing (2.1.5)\n",
      "pytest (2.8.5)\n",
      "python-dateutil (2.5.3)\n",
      "pytz (2016.6.1)\n",
      "PyYAML (3.11)\n",
      "pyzmq (15.2.0)\n",
      "QtAwesome (0.3.2)\n",
      "qtconsole (4.2.0)\n",
      "QtPy (1.0)\n",
      "redis (2.10.3)\n",
      "requests (2.9.1)\n",
      "rope (0.9.4)\n",
      "scikit-image (0.12.3)\n",
      "scikit-learn (0.17.1)\n",
      "scipy (0.17.1)\n",
      "setuptools (20.3)\n",
      "simplegeneric (0.8.1)\n",
      "singledispatch (3.4.0.3)\n",
      "six (1.10.0)\n",
      "snowballstemmer (1.2.1)\n",
      "sockjs-tornado (1.0.1)\n",
      "Sphinx (1.3.5)\n",
      "sphinx-rtd-theme (0.1.9)\n",
      "spyder (2.3.8)\n",
      "SQLAlchemy (1.0.12)\n",
      "statsmodels (0.6.1)\n",
      "sympy (1.0)\n",
      "tables (3.2.2)\n",
      "terminado (0.5)\n",
      "toolz (0.7.4)\n",
      "tornado (4.3)\n",
      "traitlets (4.2.1)\n",
      "unicodecsv (0.14.1)\n",
      "Werkzeug (0.11.4)\n",
      "wheel (0.29.0)\n",
      "xlrd (0.9.4)\n",
      "XlsxWriter (0.8.4)\n",
      "xlwings (0.7.0)\n",
      "xlwt (1.0.0)\n"
     ]
    }
   ],
   "source": [
    "!pip list"
   ]
  },
  {
   "cell_type": "code",
   "execution_count": 2,
   "metadata": {
    "collapsed": false
   },
   "outputs": [
    {
     "data": {
      "image/png": "[encoded data removed]",
      "text/plain": [
       "<matplotlib.figure.Figure at 0x10466cd90>"
      ]
     },
     "metadata": {},
     "output_type": "display_data"
    }
   ],
   "source": [
    "%matplotlib inline\n",
    "import matplotlib.pyplot as plt\n",
    "\n",
    "plt.plot([1,2,3,4],'ro')\n",
    "plt.show()"
   ]
  },
  {
   "cell_type": "code",
   "execution_count": 3,
   "metadata": {
    "collapsed": false
   },
   "outputs": [
    {
     "data": {
      "text/plain": [
       "[(1, 4), (2, 5), (3, 6)]"
      ]
     },
     "execution_count": 3,
     "metadata": {},
     "output_type": "execute_result"
    }
   ],
   "source": [
    "zip([1,2,3],[4,5,6])"
   ]
  },
  {
   "cell_type": "code",
   "execution_count": 22,
   "metadata": {
    "collapsed": false
   },
   "outputs": [
    {
     "name": "stdout",
     "output_type": "stream",
     "text": [
      "[(1, 4), (2, 5), (3, 6)]\n",
      "[(1, 2, 3), (4, 5, 6)]\n"
     ]
    }
   ],
   "source": [
    "print zip(*[[1,2,3],[4,5,6]])\n",
    "print zip(*[[1,4],[2,5],[3,6]])"
   ]
  },
  {
   "cell_type": "code",
   "execution_count": 7,
   "metadata": {
    "collapsed": false
   },
   "outputs": [
    {
     "data": {
      "text/plain": [
       "['__call__',\n",
       " '__class__',\n",
       " '__cmp__',\n",
       " '__delattr__',\n",
       " '__doc__',\n",
       " '__eq__',\n",
       " '__format__',\n",
       " '__ge__',\n",
       " '__getattribute__',\n",
       " '__gt__',\n",
       " '__hash__',\n",
       " '__init__',\n",
       " '__le__',\n",
       " '__lt__',\n",
       " '__module__',\n",
       " '__name__',\n",
       " '__ne__',\n",
       " '__new__',\n",
       " '__reduce__',\n",
       " '__reduce_ex__',\n",
       " '__repr__',\n",
       " '__self__',\n",
       " '__setattr__',\n",
       " '__sizeof__',\n",
       " '__str__',\n",
       " '__subclasshook__']"
      ]
     },
     "execution_count": 7,
     "metadata": {},
     "output_type": "execute_result"
    }
   ],
   "source": [
    "dir(zip)"
   ]
  },
  {
   "cell_type": "code",
   "execution_count": 8,
   "metadata": {
    "collapsed": false
   },
   "outputs": [
    {
     "data": {
      "text/plain": [
       "['__call__',\n",
       " '__class__',\n",
       " '__closure__',\n",
       " '__code__',\n",
       " '__defaults__',\n",
       " '__delattr__',\n",
       " '__dict__',\n",
       " '__doc__',\n",
       " '__format__',\n",
       " '__get__',\n",
       " '__getattribute__',\n",
       " '__globals__',\n",
       " '__hash__',\n",
       " '__init__',\n",
       " '__module__',\n",
       " '__name__',\n",
       " '__new__',\n",
       " '__reduce__',\n",
       " '__reduce_ex__',\n",
       " '__repr__',\n",
       " '__setattr__',\n",
       " '__sizeof__',\n",
       " '__str__',\n",
       " '__subclasshook__',\n",
       " 'func_closure',\n",
       " 'func_code',\n",
       " 'func_defaults',\n",
       " 'func_dict',\n",
       " 'func_doc',\n",
       " 'func_globals',\n",
       " 'func_name']"
      ]
     },
     "execution_count": 8,
     "metadata": {},
     "output_type": "execute_result"
    }
   ],
   "source": [
    "def add(x,y) : \n",
    "    return x+y\n",
    "dir(add)"
   ]
  },
  {
   "cell_type": "code",
   "execution_count": 9,
   "metadata": {
    "collapsed": false
   },
   "outputs": [
    {
     "data": {
      "text/plain": [
       "builtin_function_or_method"
      ]
     },
     "execution_count": 9,
     "metadata": {},
     "output_type": "execute_result"
    }
   ],
   "source": [
    "type(zip)"
   ]
  },
  {
   "cell_type": "code",
   "execution_count": 15,
   "metadata": {
    "collapsed": false
   },
   "outputs": [
    {
     "name": "stdout",
     "output_type": "stream",
     "text": [
      "Writing data.txt\n"
     ]
    }
   ],
   "source": [
    "%%writefile data.txt\n",
    "0 0\n",
    "1 1\n",
    "2 4\n",
    "3 9\n",
    "4 16\n",
    "5 25\n",
    "6 36"
   ]
  },
  {
   "cell_type": "code",
   "execution_count": 19,
   "metadata": {
    "collapsed": false
   },
   "outputs": [
    {
     "name": "stdout",
     "output_type": "stream",
     "text": [
      "[[0.0, 0.0], [1.0, 1.0], [2.0, 4.0], [3.0, 9.0], [4.0, 16.0], [5.0, 25.0], [6.0, 36.0]]\n",
      "(0.0, 1.0, 2.0, 3.0, 4.0, 5.0, 6.0)\n",
      "(0.0, 1.0, 4.0, 9.0, 16.0, 25.0, 36.0)\n"
     ]
    }
   ],
   "source": [
    "with open('data.txt','r') as f:\n",
    "    XX = [[float(s) for s in line.split()] for line in f]\n",
    "    print XX\n",
    "    X, Y = zip(*XX)\n",
    "    \n",
    "print X\n",
    "print Y"
   ]
  },
  {
   "cell_type": "code",
   "execution_count": null,
   "metadata": {
    "collapsed": true
   },
   "outputs": [],
   "source": []
  }
 ],
 "metadata": {
  "kernelspec": {
   "display_name": "Python 2",
   "language": "python",
   "name": "python2"
  },
  "language_info": {
   "codemirror_mode": {
    "name": "ipython",
    "version": 2
   },
   "file_extension": ".py",
   "mimetype": "text/x-python",
   "name": "python",
   "nbconvert_exporter": "python",
   "pygments_lexer": "ipython2",
   "version": "2.7.11"
  }
 },
 "nbformat": 4,
 "nbformat_minor": 0
}
