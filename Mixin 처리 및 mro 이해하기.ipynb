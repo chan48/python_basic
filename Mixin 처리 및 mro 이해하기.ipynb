{
 "cells": [
  {
   "cell_type": "markdown",
   "metadata": {},
   "source": [
    "# 상속 처리 \n",
    "\n",
    "\n",
    "    부모 클래스에 메소드를 정의하고 자식 클래스에서 오버라이딩을 처리한다.\n",
    "    \n",
    "    "
   ]
  },
  {
   "cell_type": "code",
   "execution_count": 18,
   "metadata": {
    "collapsed": false
   },
   "outputs": [
    {
     "name": "stdout",
     "output_type": "stream",
     "text": [
      "OTHER implicit()\n",
      "CHILD override()\n",
      "CHILD, BEFORE OTHER altered()\n",
      "OTHER altered()\n",
      "CHILD, AFTER OTHER altered()\n"
     ]
    }
   ],
   "source": [
    "class Other(object):\n",
    "\n",
    "    def override(self):\n",
    "        print( \"OTHER override()\")\n",
    "\n",
    "    def implicit(self):\n",
    "        print( \"OTHER implicit()\")\n",
    "\n",
    "    def altered(self):\n",
    "        print( \"OTHER altered()\")\n",
    "\n",
    "class Child(object):\n",
    "\n",
    "    def __init__(self):\n",
    "        self.other = Other()\n",
    "\n",
    "    def implicit(self):\n",
    "        self.other.implicit()\n",
    "\n",
    "    def override(self):\n",
    "        print( \"CHILD override()\")\n",
    "\n",
    "    def altered(self):\n",
    "        print( \"CHILD, BEFORE OTHER altered()\")\n",
    "        self.other.altered()\n",
    "        print( \"CHILD, AFTER OTHER altered()\")\n",
    "\n",
    "son = Child()\n",
    "\n",
    "son.implicit()\n",
    "son.override()\n",
    "son.altered()"
   ]
  },
  {
   "cell_type": "markdown",
   "metadata": {},
   "source": [
    "# Mixin 처리\n",
    "\n"
   ]
  },
  {
   "cell_type": "code",
   "execution_count": 8,
   "metadata": {
    "collapsed": false
   },
   "outputs": [],
   "source": [
    "class Person:\n",
    "    def __init__(self, name, surname, number):\n",
    "        self.name = name\n",
    "        self.surname = surname\n",
    "        self.number = number\n",
    "\n",
    "\n",
    "class LearnerMixin:\n",
    "    def __init__(self):\n",
    "        self.classes = []\n",
    "\n",
    "    def enrol(self, course):\n",
    "        self.classes.append(course)\n",
    "\n",
    "\n",
    "class TeacherMixin:\n",
    "    def __init__(self):\n",
    "        self.courses_taught = []\n",
    "\n",
    "    def assign_teaching(self, course):\n",
    "        self.courses_taught.append(course)\n",
    "\n",
    "\n",
    "class Tutor (LearnerMixin, TeacherMixin, Person):\n",
    "    def __init__(self, *args, **kwargs):\n",
    "        Person.__init__(self,*args, **kwargs)\n",
    "        #실제 인스턴스 내의 속성으로 만들어진다.\n",
    "        LearnerMixin.__init__(self)\n",
    "        TeacherMixin.__init__(self)\n"
   ]
  },
  {
   "cell_type": "code",
   "execution_count": 15,
   "metadata": {
    "collapsed": false
   },
   "outputs": [
    {
     "name": "stdout",
     "output_type": "stream",
     "text": [
      "['a_postgrad_course']\n",
      "['an_undergrad_course']\n",
      "{'name': 'Jane', 'courses_taught': ['an_undergrad_course'], 'classes': ['a_postgrad_course'], 'number': 'SMTJNX045', 'surname': 'Smith'}\n"
     ]
    }
   ],
   "source": [
    "jane = Tutor(\"Jane\", \"Smith\", \"SMTJNX045\")\n",
    "jane.enrol('a_postgrad_course')\n",
    "jane.assign_teaching('an_undergrad_course')\n",
    "print(jane.classes)\n",
    "print(jane.courses_taught)\n",
    "\n",
    "print(jane.__dict__)"
   ]
  },
  {
   "cell_type": "code",
   "execution_count": 10,
   "metadata": {
    "collapsed": false
   },
   "outputs": [
    {
     "data": {
      "text/plain": [
       "[__main__.Tutor,\n",
       " __main__.LearnerMixin,\n",
       " __main__.TeacherMixin,\n",
       " __main__.Person,\n",
       " object]"
      ]
     },
     "execution_count": 10,
     "metadata": {},
     "output_type": "execute_result"
    }
   ],
   "source": [
    "Tutor.mro()"
   ]
  },
  {
   "cell_type": "code",
   "execution_count": 11,
   "metadata": {
    "collapsed": false
   },
   "outputs": [
    {
     "name": "stdout",
     "output_type": "stream",
     "text": [
      "dahl\n",
      "[<class '__main__.A'>, <class 'object'>]\n",
      "<class '__main__.A'> [<class '__main__.A'>, <class 'object'>]\n"
     ]
    }
   ],
   "source": [
    "class A(object) :\n",
    "    def __init__(self,name) :\n",
    "        self.name = name\n",
    "        \n",
    "a = A('dahl')\n",
    "print(a.name)\n",
    "\n",
    "\n",
    "print(type.mro(A))\n",
    "print(type(a),type(a).mro())"
   ]
  },
  {
   "cell_type": "markdown",
   "metadata": {},
   "source": [
    "## 상속관계 확인하기\n"
   ]
  },
  {
   "cell_type": "code",
   "execution_count": 16,
   "metadata": {
    "collapsed": false
   },
   "outputs": [
    {
     "name": "stdout",
     "output_type": "stream",
     "text": [
      "True\n",
      "True NotImplemented\n",
      "False NotImplemented\n"
     ]
    }
   ],
   "source": [
    "class A(object):\n",
    "    a1 = \"A\"\n",
    "class B(object): \n",
    "    a2 = \"B\"\n",
    "class C(A,B):   \n",
    "    a3 = \"C(A,B)\"\n",
    "class D(C):     \n",
    "    a4 = \"D(C)\"\n",
    "\n",
    "d = D()\n",
    "d.a5 = \"instance d of D\"\n",
    "\n",
    "print(issubclass(D,C))\n",
    "\n",
    "print(issubclass(D,A), A.__subclasshook__(D))\n",
    "\n",
    "print(issubclass(A,B), B.__subclasshook__(A))\n"
   ]
  },
  {
   "cell_type": "code",
   "execution_count": 17,
   "metadata": {
    "collapsed": false
   },
   "outputs": [
    {
     "data": {
      "text/plain": [
       "[__main__.D, __main__.C, __main__.A, __main__.B, object]"
      ]
     },
     "execution_count": 17,
     "metadata": {},
     "output_type": "execute_result"
    }
   ],
   "source": [
    "D.mro()"
   ]
  },
  {
   "cell_type": "code",
   "execution_count": null,
   "metadata": {
    "collapsed": true
   },
   "outputs": [],
   "source": []
  }
 ],
 "metadata": {
  "kernelspec": {
   "display_name": "Python [conda root]",
   "language": "python",
   "name": "conda-root-py"
  },
  "language_info": {
   "codemirror_mode": {
    "name": "ipython",
    "version": 3
   },
   "file_extension": ".py",
   "mimetype": "text/x-python",
   "name": "python",
   "nbconvert_exporter": "python",
   "pygments_lexer": "ipython3",
   "version": "3.5.2"
  }
 },
 "nbformat": 4,
 "nbformat_minor": 1
}
