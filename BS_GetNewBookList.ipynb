{
 "cells": [
  {
   "cell_type": "code",
   "execution_count": 1,
   "metadata": {
    "collapsed": false
   },
   "outputs": [],
   "source": [
    "from bs4 import BeautifulSoup\n",
    "import requests\n",
    "import re"
   ]
  },
  {
   "cell_type": "code",
   "execution_count": 2,
   "metadata": {
    "collapsed": true
   },
   "outputs": [],
   "source": [
    "def GetSoup(address):\n",
    "    try:\n",
    "        r = requests.get(address)\n",
    "        if r.status_code != 200:\n",
    "            print (\"address can NOT connect = {address}\".format(address= address))\n",
    "            return False\n",
    "        else:\n",
    "            res = r.text\n",
    "            soup = BeautifulSoup(res, \"html.parser\")\n",
    "            return soup\n",
    "    except Exception as err:\n",
    "        errStr = 'Exception in GetSoup function ' + str(err)\n",
    "        print (errStr)"
   ]
  },
  {
   "cell_type": "code",
   "execution_count": 9,
   "metadata": {
    "collapsed": false
   },
   "outputs": [],
   "source": [
    "def GetBookData(soup, main_address):\n",
    "    try:\n",
    "        ret = []\n",
    "        for div_data in soup.findAll(\"div\", {\"class\": \"goodsImgW\"}):\n",
    "            sub_con = div_data.find(\"a\")[\"href\"]\n",
    "            sub_address = main_address + sub_con\n",
    "            info = GetDetailBookInfo(sub_address)\n",
    "            #print (info)\n",
    "            ret.append(info)\n",
    "        return ret\n",
    "    except Exception as err:\n",
    "        errStr = 'Exception in GetBookData function ' + str(err)\n",
    "        print (errStr)"
   ]
  },
  {
   "cell_type": "code",
   "execution_count": 10,
   "metadata": {
    "collapsed": false
   },
   "outputs": [],
   "source": [
    "import datetime\n",
    "\n",
    "def GetDetailBookInfo(address):\n",
    "    try:\n",
    "        book_info = {\"title\":\"\", \"author\" :[], \"publisher\" : \"\", \"date\" :\"\", \"price\":0} \n",
    "        soup = GetSoup(address)\n",
    "        if soup:\n",
    "            #책 이름\n",
    "            book_info[\"title\"] = soup.find(\"meta\")[\"content\"].strip()\n",
    "            \n",
    "            # 저자\n",
    "            for p_data in soup.find_all('a', attrs ={\"href\": re.compile(r\"Result\\?domain\\=ALL\\&author_yn\")}):\n",
    "                for child in p_data.descendants:\n",
    "                    book_info[\"author\"].append(child)\n",
    "            # 출판사\n",
    "            for p_data in soup.find_all('a', attrs ={\"href\": re.compile(r\"Result\\?domain\\=ALL\\&company_yn\")}):\n",
    "                for child in p_data.descendants:\n",
    "                    book_info[\"publisher\"] = child            \n",
    "            # 출간일\n",
    "            dd_data = soup.find(\"dd\", attrs ={\"class\" : \"pdDate\"})\n",
    "            if dd_data:\n",
    "                #print (dd_data)\n",
    "                for p_data in dd_data.find_all(\"p\"):\n",
    "                    #print (p_data)\n",
    "                    p = re.compile(r\"([\\d]{4})년 ([\\d]{2})월 ([\\d]{2})일\")\n",
    "                    m = p.search(p_data.get_text())\n",
    "                    if m:\n",
    "                        book_info[\"date\"] = datetime.datetime.strptime(m.group(), \"%Y년 %m월 %d일\").date()\n",
    "                        break\n",
    "            # 가격 (정가 기준)\n",
    "            tr_data = soup.find(\"div\",{\"class\": \"tbGoodsInfo firstTb\"}).find(\"tbody\").find(\"tr\")\n",
    "                #print (tr_data)\n",
    "            if tr_data:\n",
    "                for th_data in tr_data.find_all(\"th\", attrs={\"scope\" : \"row\"}):\n",
    "                    for child in th_data.descendants:\n",
    "                        if child == '정가':\n",
    "                            for price in tr_data.find(\"td\").descendants:\n",
    "                                replace_dict = {r'\\s+': \"\", \",\": \"\", \"원\": \"\"}\n",
    "                                pattern = re.compile('|'.join(replace_dict.keys()))\n",
    "                                book_info[\"price\"] = int(re.sub(pattern, '', price))\n",
    "                                break\n",
    "        return book_info\n",
    "    except Exception as err:\n",
    "        errStr = 'Exception in GetDetailBookInfo function ' + str(err)\n",
    "        print (errStr)\n",
    "        "
   ]
  },
  {
   "cell_type": "code",
   "execution_count": 11,
   "metadata": {
    "collapsed": false
   },
   "outputs": [
    {
     "name": "stdout",
     "output_type": "stream",
     "text": [
      "[{'date': datetime.date(2016, 12, 28), 'author': ['Shinjiro'], 'publisher': '조은세상', 'title': '[예약판매] TABOO TATTOO 타부 타투 3', 'price': 5000}, {'date': datetime.date(2016, 12, 28), 'author': ['Tanaka Strike'], 'publisher': '조은세상', 'title': '[예약판매] SERVAMP 서뱀프 7', 'price': 5000}, {'date': datetime.date(2017, 1, 2), 'author': ['묘조 기요코', '이민희'], 'publisher': '교유서가', 'title': '카프카답지 않은 카프카', 'price': 18000}, {'date': datetime.date(2017, 2, 10), 'author': ['이영수'], 'publisher': '서울고시각', 'title': '2017 지적직 지적전산학개론 단원별 기출문제집', 'price': 18000}, {'date': datetime.date(2017, 2, 10), 'author': ['이기영'], 'publisher': '서울고시각', 'title': '2017 A+ 국제무역사 1급', 'price': 32000}, {'date': datetime.date(2016, 12, 20), 'author': ['강지혜', '조승연'], 'publisher': '상상의집', 'title': '오 마이 갓! 어쩌다 사춘기 3', 'price': 10800}, {'date': datetime.date(2017, 1, 10), 'author': ['정종연'], 'publisher': '성안당', 'title': '2017 합격비법 6 전기설비기술기준 및 판단기준', 'price': 22000}, {'date': datetime.date(2017, 1, 10), 'author': ['전수기'], 'publisher': '성안당', 'title': '2017 합격비법 5 제어공학', 'price': 18000}, {'date': datetime.date(2017, 1, 10), 'author': ['전수기'], 'publisher': '성안당', 'title': '2017 합격비법 4 회로이론', 'price': 22000}, {'date': datetime.date(2017, 1, 10), 'author': ['정종연'], 'publisher': '성안당', 'title': '2017 합격비법 2 전력공학', 'price': 20000}, {'date': datetime.date(2017, 1, 10), 'author': ['전수기'], 'publisher': '성안당', 'title': '2017 합격비법 1 전기자기학', 'price': 20000}, {'date': datetime.date(2016, 12, 26), 'author': ['오스왈드 챔버스', '스데반 황', '김혜경'], 'publisher': 'iN크리스토', 'title': '어린이 묵상집 365일', 'price': 13000}, {'date': datetime.date(2017, 1, 5), 'author': ['도널드 트럼프', '이은주', '도지영'], 'publisher': '미래의창', 'title': '트럼프, 강한 미국을 꿈꾸다 TIME TO GET TOUGH', 'price': 14000}, {'date': datetime.date(2017, 1, 15), 'author': ['잭 캔필드', '마크 빅터 한센', '김재홍'], 'publisher': '슬로디미디어', 'title': '[예약판매] 꿈을 도둑맞은 사람들에게', 'price': 15000}, {'date': datetime.date(2017, 1, 20), 'author': ['한국일본교육학회', '한용진'], 'publisher': '미래의창', 'title': '일본의 지역교육력 이해와 실제', 'price': 14000}, {'date': datetime.date(2017, 1, 1), 'author': ['정지웅', '송용희', '이혁', '권경원'], 'publisher': '무크랜드', 'title': '2017 무크랜드 공인중개사 기출문제집 2차', 'price': 19000}, {'date': datetime.date(2017, 1, 1), 'author': ['정동혁', '양민'], 'publisher': '무크랜드', 'title': '2017 무크랜드 공인중개사 기출문제집 1차', 'price': 18000}, {'date': datetime.date(2017, 1, 1), 'author': ['서호성'], 'publisher': '와우패스', 'title': '2017 TESAT 이론+문제', 'price': 25000}, {'date': datetime.date(2016, 12, 23), 'author': ['이영롱', '명수민'], 'publisher': '교육공동체벗', 'title': '좋은 노동은 가능한가', 'price': 12000}, {'date': datetime.date(2016, 12, 9), 'author': ['황종휴'], 'publisher': '윌비스', 'title': '연습책 재정학', 'price': 29000}, {'date': datetime.date(2016, 12, 30), 'author': ['디디에 레비', '파브리스 튀리에', '장석훈'], 'publisher': '다림', 'title': '기분을 말해봐요', 'price': 11000}, {'date': datetime.date(2017, 1, 10), 'author': ['김재호'], 'publisher': '성안당', 'title': '2017 합격이 보이는 위험물기능장 실기', 'price': 33000}, {'date': datetime.date(2017, 1, 10), 'author': ['김재호'], 'publisher': '성안당', 'title': '2017 합격이 보이는 위험물기능장 필기', 'price': 36000}, {'date': datetime.date(2016, 12, 30), 'author': ['캡틴K'], 'publisher': '위너스북', 'title': '[예약판매] 시사경제독설', 'price': 17000}, {'date': datetime.date(2017, 1, 24), 'author': ['현성호'], 'publisher': '성안당', 'title': '2017 위험물산업기사 필기+실기', 'price': 40000}, {'date': datetime.date(2016, 12, 30), 'author': ['선양미'], 'publisher': '길벗', 'title': '직장인을 위한 실무 엑셀', 'price': 21000}, {'date': datetime.date(2017, 1, 10), 'author': ['여은'], 'publisher': '책들의정원', 'title': '[예약판매] 대새녀의 메이크업 이야기', 'price': 12000}, {'date': datetime.date(2016, 12, 20), 'author': ['송재환', '유준재'], 'publisher': '계림(계림북스)', 'title': '우리 선생님은 바람둥이', 'price': 8000}, {'date': datetime.date(2017, 1, 15), 'author': ['윤동섭', '김영곤'], 'publisher': '에듀윌', 'title': '2017 에듀윌 주택관리사 2차 기출문제집', 'price': 16000}, {'date': datetime.date(2017, 1, 15), 'author': ['설신재', '윤재옥', '신 명', '윤동섭', '김영곤'], 'publisher': '에듀윌', 'title': '2017 에듀윌 주택관리사 1, 2차 기출문제집 세트', 'price': 35000}, {'date': datetime.date(2016, 12, 25), 'author': ['林?', '王理嘉', '王?佳', '王理嘉', '심소희'], 'publisher': '교육과학사', 'title': '중국어 음성학 증정본', 'price': 21000}, {'date': datetime.date(2016, 12, 30), 'author': ['고흥식'], 'publisher': '크리스천리더', 'title': '보배를 담은 그릇', 'price': 12000}, {'date': datetime.date(2016, 12, 26), 'author': ['작은학교교육연대'], 'publisher': '내일을여는책', 'title': '작은 학교, 학교의 길을 묻다', 'price': 20000}, {'date': datetime.date(2016, 12, 20), 'author': ['대동철학회 출판기획위원회'], 'publisher': '교육과학사', 'title': '인성교육의 철학적 성찰', 'price': 14000}, {'date': datetime.date(2016, 12, 23), 'author': ['이수백'], 'publisher': '새벽', 'title': '전장에 살다 4', 'price': 8000}, {'date': datetime.date(2016, 12, 23), 'author': ['북미혼'], 'publisher': '파피루스(디앤씨미디어)', 'title': '절대공자 5', 'price': 8000}, {'date': datetime.date(2016, 12, 23), 'author': ['J보경'], 'publisher': '파피루스(디앤씨미디어)', 'title': '세상을 삼켜라 3', 'price': 8000}, {'date': datetime.date(2016, 12, 14), 'author': ['반자개'], 'publisher': '위시북스', 'title': '건축의 신 9', 'price': 8000}, {'date': datetime.date(2016, 12, 14), 'author': ['반자개'], 'publisher': '위시북스', 'title': '건축의 신 8', 'price': 8000}, {'date': datetime.date(2016, 12, 20), 'author': ['박태원'], 'publisher': '세창출판사', 'title': '돈점 진리담론', 'price': 16000}]\n"
     ]
    }
   ],
   "source": [
    "address = \"http://www.yes24.com/24/Category/NewProductList/001?PageNumber={page}\"\n",
    "main_address = \"http://www.yes24.com\"\n",
    "for i in range(1,2): # page는 1부터 40까지\n",
    "    page_address= address.format(page=i)\n",
    "    soup = GetSoup(address)\n",
    "    if soup:\n",
    "        ret = GetBookData(soup, main_address)\n",
    "    print (ret)\n",
    "    #html = HTML()       \n",
    "            "
   ]
  },
  {
   "cell_type": "code",
   "execution_count": null,
   "metadata": {
    "collapsed": true
   },
   "outputs": [],
   "source": []
  },
  {
   "cell_type": "code",
   "execution_count": null,
   "metadata": {
    "collapsed": true
   },
   "outputs": [],
   "source": []
  }
 ],
 "metadata": {
  "kernelspec": {
   "display_name": "Python 3",
   "language": "python",
   "name": "python3"
  },
  "language_info": {
   "codemirror_mode": {
    "name": "ipython",
    "version": 3
   },
   "file_extension": ".py",
   "mimetype": "text/x-python",
   "name": "python",
   "nbconvert_exporter": "python",
   "pygments_lexer": "ipython3",
   "version": "3.5.2"
  }
 },
 "nbformat": 4,
 "nbformat_minor": 0
}
