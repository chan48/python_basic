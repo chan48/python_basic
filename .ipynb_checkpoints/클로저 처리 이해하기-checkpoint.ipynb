{
 "cells": [
  {
   "cell_type": "markdown",
   "metadata": {},
   "source": [
    "# 클로저(closure 처리 이해하기)\n",
    "\n",
    "    클로저는 내부 함수을 외부로 전달해서 자유변수인 외부함수 내의 로컬 변수를 변경시킬 수 있는 환경을 말한다.\n",
    "    "
   ]
  },
  {
   "cell_type": "code",
   "execution_count": 1,
   "metadata": {
    "collapsed": false
   },
   "outputs": [
    {
     "name": "stdout",
     "output_type": "stream",
     "text": [
      "('a', 'inner')\n",
      "5\n",
      "<function outer.<locals>.inner at 0x0000000004E51378>\n",
      "locals 5\n",
      "15\n"
     ]
    }
   ],
   "source": [
    "def outer(a) :\n",
    "    def inner(b) :\n",
    "        print(\"locals\",locals()[inner.__code__.co_freevars[0]])\n",
    "        return a+b\n",
    "    return inner\n",
    "\n"
   ]
  },
  {
   "cell_type": "code",
   "execution_count": null,
   "metadata": {
    "collapsed": true
   },
   "outputs": [],
   "source": [
    "a = outer(5)\n",
    "print(a.__code__.co_freevars)\n",
    "print(a.__closure__[0].cell_contents)\n",
    "print(a.__closure__[1].cell_contents)\n",
    "\n",
    "print(a(10))"
   ]
  }
 ],
 "metadata": {
  "kernelspec": {
   "display_name": "Python [conda root]",
   "language": "python",
   "name": "conda-root-py"
  },
  "language_info": {
   "codemirror_mode": {
    "name": "ipython",
    "version": 3
   },
   "file_extension": ".py",
   "mimetype": "text/x-python",
   "name": "python",
   "nbconvert_exporter": "python",
   "pygments_lexer": "ipython3",
   "version": "3.5.2"
  }
 },
 "nbformat": 4,
 "nbformat_minor": 1
}
