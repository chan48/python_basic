{
 "cells": [
  {
   "cell_type": "markdown",
   "metadata": {},
   "source": [
    "# 실수에 대한 처리 \n",
    "\n",
    "   decimal이 float보다 더 정밀도가 높아 정확도를 높이기 위해서는 decimal 모듈을 이용해서 처리한다.\n",
    "    "
   ]
  },
  {
   "cell_type": "code",
   "execution_count": 2,
   "metadata": {
    "collapsed": true
   },
   "outputs": [],
   "source": [
    "import decimal as dec"
   ]
  },
  {
   "cell_type": "code",
   "execution_count": 9,
   "metadata": {
    "collapsed": false
   },
   "outputs": [
    {
     "name": "stdout",
     "output_type": "stream",
     "text": [
      "10.22222222222222143273029359988868236541748046875\n",
      "###12345678901234567890123456789012345678901234567890\n"
     ]
    }
   ],
   "source": [
    "a = dec.Decimal(10.22222222222222222222)\n",
    "print(a)\n",
    "print(\"###12345678901234567890123456789012345678901234567890\")"
   ]
  },
  {
   "cell_type": "code",
   "execution_count": 10,
   "metadata": {
    "collapsed": false
   },
   "outputs": [
    {
     "name": "stdout",
     "output_type": "stream",
     "text": [
      "10.222222222222221\n",
      "###12345678901234567890\n"
     ]
    }
   ],
   "source": [
    "b = 10.22222222222222222222\n",
    "print(b)\n",
    "print(\"###12345678901234567890\")"
   ]
  },
  {
   "cell_type": "markdown",
   "metadata": {},
   "source": [
    "### 소숫점 이하의 자리 수 처리\n"
   ]
  },
  {
   "cell_type": "code",
   "execution_count": 6,
   "metadata": {
    "collapsed": false
   },
   "outputs": [
    {
     "data": {
      "text/plain": [
       "Context(prec=28, rounding=ROUND_HALF_EVEN, Emin=-999999, Emax=999999, capitals=1, clamp=0, flags=[FloatOperation], traps=[InvalidOperation, DivisionByZero, Overflow])"
      ]
     },
     "execution_count": 6,
     "metadata": {},
     "output_type": "execute_result"
    }
   ],
   "source": [
    "dec.getcontext()"
   ]
  },
  {
   "cell_type": "code",
   "execution_count": 7,
   "metadata": {
    "collapsed": false
   },
   "outputs": [
    {
     "data": {
      "text/plain": [
       "sys.float_info(max=1.7976931348623157e+308, max_exp=1024, max_10_exp=308, min=2.2250738585072014e-308, min_exp=-1021, min_10_exp=-307, dig=15, mant_dig=53, epsilon=2.220446049250313e-16, radix=2, rounds=1)"
      ]
     },
     "execution_count": 7,
     "metadata": {},
     "output_type": "execute_result"
    }
   ],
   "source": [
    "import sys\n",
    "\n",
    "sys.float_info"
   ]
  },
  {
   "cell_type": "markdown",
   "metadata": {},
   "source": [
    "### decimal과 float 연산시 오류"
   ]
  },
  {
   "cell_type": "code",
   "execution_count": 11,
   "metadata": {
    "collapsed": false
   },
   "outputs": [
    {
     "name": "stdout",
     "output_type": "stream",
     "text": [
      "10.22222222222222143273029359988868236541748046875\n"
     ]
    },
    {
     "ename": "TypeError",
     "evalue": "unsupported operand type(s) for +: 'decimal.Decimal' and 'float'",
     "output_type": "error",
     "traceback": [
      "\u001b[0;31m---------------------------------------------------------------------------\u001b[0m",
      "\u001b[0;31mTypeError\u001b[0m                                 Traceback (most recent call last)",
      "\u001b[0;32m<ipython-input-11-ac235ff933ca>\u001b[0m in \u001b[0;36m<module>\u001b[0;34m()\u001b[0m\n\u001b[1;32m      4\u001b[0m \u001b[0mf\u001b[0m \u001b[1;33m=\u001b[0m \u001b[1;36m10.5\u001b[0m\u001b[1;33m\u001b[0m\u001b[0m\n\u001b[1;32m      5\u001b[0m \u001b[1;33m\u001b[0m\u001b[0m\n\u001b[0;32m----> 6\u001b[0;31m \u001b[0mc\u001b[0m \u001b[1;33m=\u001b[0m \u001b[0ma\u001b[0m \u001b[1;33m+\u001b[0m \u001b[0mf\u001b[0m\u001b[1;33m\u001b[0m\u001b[0m\n\u001b[0m\u001b[1;32m      7\u001b[0m \u001b[0mprint\u001b[0m\u001b[1;33m(\u001b[0m\u001b[0mc\u001b[0m\u001b[1;33m)\u001b[0m\u001b[1;33m\u001b[0m\u001b[0m\n",
      "\u001b[0;31mTypeError\u001b[0m: unsupported operand type(s) for +: 'decimal.Decimal' and 'float'"
     ]
    }
   ],
   "source": [
    "a = dec.Decimal(10.22222222222222222222)\n",
    "print(a)\n",
    "\n",
    "f = 10.5\n",
    "\n",
    "c = a + f\n",
    "print(c)"
   ]
  },
  {
   "cell_type": "markdown",
   "metadata": {},
   "source": [
    "###  자료형 변환해서 연산처리\n"
   ]
  },
  {
   "cell_type": "code",
   "execution_count": 12,
   "metadata": {
    "collapsed": false
   },
   "outputs": [
    {
     "name": "stdout",
     "output_type": "stream",
     "text": [
      "10.22222222222222143273029359988868236541748046875\n",
      "20.72222222222222\n"
     ]
    }
   ],
   "source": [
    "a = dec.Decimal(10.22222222222222222222)\n",
    "print(a)\n",
    "\n",
    "f = 10.5\n",
    "\n",
    "c = float(a) + f\n",
    "print(c)"
   ]
  },
  {
   "cell_type": "code",
   "execution_count": 13,
   "metadata": {
    "collapsed": false
   },
   "outputs": [
    {
     "name": "stdout",
     "output_type": "stream",
     "text": [
      "20.72222222222222143273029360\n"
     ]
    }
   ],
   "source": [
    "d = a + dec.Decimal(f)\n",
    "print(d)"
   ]
  },
  {
   "cell_type": "code",
   "execution_count": 14,
   "metadata": {
    "collapsed": false
   },
   "outputs": [
    {
     "data": {
      "text/plain": [
       "['__abs__',\n",
       " '__add__',\n",
       " '__bool__',\n",
       " '__ceil__',\n",
       " '__class__',\n",
       " '__complex__',\n",
       " '__copy__',\n",
       " '__deepcopy__',\n",
       " '__delattr__',\n",
       " '__dir__',\n",
       " '__divmod__',\n",
       " '__doc__',\n",
       " '__eq__',\n",
       " '__float__',\n",
       " '__floor__',\n",
       " '__floordiv__',\n",
       " '__format__',\n",
       " '__ge__',\n",
       " '__getattribute__',\n",
       " '__gt__',\n",
       " '__hash__',\n",
       " '__init__',\n",
       " '__int__',\n",
       " '__le__',\n",
       " '__lt__',\n",
       " '__mod__',\n",
       " '__module__',\n",
       " '__mul__',\n",
       " '__ne__',\n",
       " '__neg__',\n",
       " '__new__',\n",
       " '__pos__',\n",
       " '__pow__',\n",
       " '__radd__',\n",
       " '__rdivmod__',\n",
       " '__reduce__',\n",
       " '__reduce_ex__',\n",
       " '__repr__',\n",
       " '__rfloordiv__',\n",
       " '__rmod__',\n",
       " '__rmul__',\n",
       " '__round__',\n",
       " '__rpow__',\n",
       " '__rsub__',\n",
       " '__rtruediv__',\n",
       " '__setattr__',\n",
       " '__sizeof__',\n",
       " '__str__',\n",
       " '__sub__',\n",
       " '__subclasshook__',\n",
       " '__truediv__',\n",
       " '__trunc__',\n",
       " 'adjusted',\n",
       " 'as_tuple',\n",
       " 'canonical',\n",
       " 'compare',\n",
       " 'compare_signal',\n",
       " 'compare_total',\n",
       " 'compare_total_mag',\n",
       " 'conjugate',\n",
       " 'copy_abs',\n",
       " 'copy_negate',\n",
       " 'copy_sign',\n",
       " 'exp',\n",
       " 'fma',\n",
       " 'from_float',\n",
       " 'imag',\n",
       " 'is_canonical',\n",
       " 'is_finite',\n",
       " 'is_infinite',\n",
       " 'is_nan',\n",
       " 'is_normal',\n",
       " 'is_qnan',\n",
       " 'is_signed',\n",
       " 'is_snan',\n",
       " 'is_subnormal',\n",
       " 'is_zero',\n",
       " 'ln',\n",
       " 'log10',\n",
       " 'logb',\n",
       " 'logical_and',\n",
       " 'logical_invert',\n",
       " 'logical_or',\n",
       " 'logical_xor',\n",
       " 'max',\n",
       " 'max_mag',\n",
       " 'min',\n",
       " 'min_mag',\n",
       " 'next_minus',\n",
       " 'next_plus',\n",
       " 'next_toward',\n",
       " 'normalize',\n",
       " 'number_class',\n",
       " 'quantize',\n",
       " 'radix',\n",
       " 'real',\n",
       " 'remainder_near',\n",
       " 'rotate',\n",
       " 'same_quantum',\n",
       " 'scaleb',\n",
       " 'shift',\n",
       " 'sqrt',\n",
       " 'to_eng_string',\n",
       " 'to_integral',\n",
       " 'to_integral_exact',\n",
       " 'to_integral_value']"
      ]
     },
     "execution_count": 14,
     "metadata": {},
     "output_type": "execute_result"
    }
   ],
   "source": [
    "dir(d)"
   ]
  },
  {
   "cell_type": "code",
   "execution_count": 17,
   "metadata": {
    "collapsed": false
   },
   "outputs": [
    {
     "name": "stdout",
     "output_type": "stream",
     "text": [
      "21\n",
      "21\n",
      "21\n"
     ]
    }
   ],
   "source": [
    "print(d.to_integral())\n",
    "print(d.to_integral_exact())\n",
    "print(d.to_integral_value())"
   ]
  },
  {
   "cell_type": "markdown",
   "metadata": {},
   "source": [
    "### 소숫점을 특정하게 처리하기\n",
    "\n",
    "    특정 계산을 기준으로 하도록 처리하려면 계산된 결과를 특정 단위까지만 처리한 결과로 처리하도록 한다.\n",
    "    "
   ]
  },
  {
   "cell_type": "code",
   "execution_count": 22,
   "metadata": {
    "collapsed": false
   },
   "outputs": [
    {
     "name": "stdout",
     "output_type": "stream",
     "text": [
      "10.26\n",
      "10.25\n",
      "10.24\n"
     ]
    }
   ],
   "source": [
    "d = dec.Decimal(\"10.255555\")\n",
    "a = dec.Decimal(\"0.00\")\n",
    "print(d.quantize(a))\n",
    "\n",
    "e = dec.Decimal(\"10.245555\")\n",
    "print(e.quantize(a))\n",
    "\n",
    "f = dec.Decimal(\"10.244555\")\n",
    "print(f.quantize(a))"
   ]
  },
  {
   "cell_type": "code",
   "execution_count": null,
   "metadata": {
    "collapsed": true
   },
   "outputs": [],
   "source": []
  }
 ],
 "metadata": {
  "anaconda-cloud": {},
  "kernelspec": {
   "display_name": "Python [conda root]",
   "language": "python",
   "name": "conda-root-py"
  },
  "language_info": {
   "codemirror_mode": {
    "name": "ipython",
    "version": 3
   },
   "file_extension": ".py",
   "mimetype": "text/x-python",
   "name": "python",
   "nbconvert_exporter": "python",
   "pygments_lexer": "ipython3",
   "version": "3.5.2"
  }
 },
 "nbformat": 4,
 "nbformat_minor": 0
}
