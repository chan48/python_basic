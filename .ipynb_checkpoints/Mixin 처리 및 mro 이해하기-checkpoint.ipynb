{
 "cells": [
  {
   "cell_type": "markdown",
   "metadata": {},
   "source": [
    "# Mixin 처리\n",
    "\n"
   ]
  },
  {
   "cell_type": "code",
   "execution_count": 8,
   "metadata": {
    "collapsed": false
   },
   "outputs": [],
   "source": [
    "class Person:\n",
    "    def __init__(self, name, surname, number):\n",
    "        self.name = name\n",
    "        self.surname = surname\n",
    "        self.number = number\n",
    "\n",
    "\n",
    "class LearnerMixin:\n",
    "    def __init__(self):\n",
    "        self.classes = []\n",
    "\n",
    "    def enrol(self, course):\n",
    "        self.classes.append(course)\n",
    "\n",
    "\n",
    "class TeacherMixin:\n",
    "    def __init__(self):\n",
    "        self.courses_taught = []\n",
    "\n",
    "    def assign_teaching(self, course):\n",
    "        self.courses_taught.append(course)\n",
    "\n",
    "\n",
    "class Tutor (LearnerMixin, TeacherMixin, Person):\n",
    "    def __init__(self, *args, **kwargs):\n",
    "        Person.__init__(self,*args, **kwargs)\n",
    "        #실제 인스턴스 내의 속성으로 만들어진다.\n",
    "        LearnerMixin.__init__(self)\n",
    "        TeacherMixin.__init__(self)\n"
   ]
  },
  {
   "cell_type": "code",
   "execution_count": 15,
   "metadata": {
    "collapsed": false
   },
   "outputs": [
    {
     "name": "stdout",
     "output_type": "stream",
     "text": [
      "['a_postgrad_course']\n",
      "['an_undergrad_course']\n",
      "{'name': 'Jane', 'courses_taught': ['an_undergrad_course'], 'classes': ['a_postgrad_course'], 'number': 'SMTJNX045', 'surname': 'Smith'}\n"
     ]
    }
   ],
   "source": [
    "jane = Tutor(\"Jane\", \"Smith\", \"SMTJNX045\")\n",
    "jane.enrol('a_postgrad_course')\n",
    "jane.assign_teaching('an_undergrad_course')\n",
    "print(jane.classes)\n",
    "print(jane.courses_taught)\n",
    "\n",
    "print(jane.__dict__)"
   ]
  },
  {
   "cell_type": "code",
   "execution_count": 10,
   "metadata": {
    "collapsed": false
   },
   "outputs": [
    {
     "data": {
      "text/plain": [
       "[__main__.Tutor,\n",
       " __main__.LearnerMixin,\n",
       " __main__.TeacherMixin,\n",
       " __main__.Person,\n",
       " object]"
      ]
     },
     "execution_count": 10,
     "metadata": {},
     "output_type": "execute_result"
    }
   ],
   "source": [
    "Tutor.mro()"
   ]
  },
  {
   "cell_type": "code",
   "execution_count": 11,
   "metadata": {
    "collapsed": false
   },
   "outputs": [
    {
     "name": "stdout",
     "output_type": "stream",
     "text": [
      "dahl\n",
      "[<class '__main__.A'>, <class 'object'>]\n",
      "<class '__main__.A'> [<class '__main__.A'>, <class 'object'>]\n"
     ]
    }
   ],
   "source": [
    "class A(object) :\n",
    "    def __init__(self,name) :\n",
    "        self.name = name\n",
    "        \n",
    "a = A('dahl')\n",
    "print(a.name)\n",
    "\n",
    "\n",
    "print(type.mro(A))\n",
    "print(type(a),type(a).mro())"
   ]
  },
  {
   "cell_type": "code",
   "execution_count": null,
   "metadata": {
    "collapsed": true
   },
   "outputs": [],
   "source": []
  }
 ],
 "metadata": {
  "kernelspec": {
   "display_name": "Python [conda root]",
   "language": "python",
   "name": "conda-root-py"
  },
  "language_info": {
   "codemirror_mode": {
    "name": "ipython",
    "version": 3
   },
   "file_extension": ".py",
   "mimetype": "text/x-python",
   "name": "python",
   "nbconvert_exporter": "python",
   "pygments_lexer": "ipython3",
   "version": "3.5.2"
  }
 },
 "nbformat": 4,
 "nbformat_minor": 1
}
