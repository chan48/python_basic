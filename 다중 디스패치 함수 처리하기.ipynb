{
 "cells": [
  {
   "cell_type": "markdown",
   "metadata": {},
   "source": [
    "# 동일한 함수 이름으로 다양한 함수를 처리하기 \n",
    "\n",
    "\n",
    "   함수형 프로그램 처럼 동일한 함수이지만 함수의 매개변수가 차이가 있을 때 \n",
    "   이를 동일한 함수를 이용해서 처리할 수 있는 구조를 만든다.\n",
    "   \n",
    "   multipleddispatch 모듈에서 dispatch를 데코레이터로 사용하면 각 타입에 따른 것을 등록해서 사용할 수 있다\n",
    "   \n",
    "       다중 디스패치 (일명 multimethods, 일반 함수 및 함수 오버로드)는 호출 인수에 따라 실행할 여러 함수 본문 중에서 선택합니다.\n",
    "\n",
    "    "
   ]
  },
  {
   "cell_type": "code",
   "execution_count": 1,
   "metadata": {
    "collapsed": false
   },
   "outputs": [
    {
     "name": "stdout",
     "output_type": "stream",
     "text": [
      "Requirement already up-to-date: multipledispatch in c:\\programdata\\anaconda3\\lib\\site-packages\n"
     ]
    }
   ],
   "source": [
    "!pip install multipledispatch --upgrade"
   ]
  },
  {
   "cell_type": "code",
   "execution_count": 8,
   "metadata": {
    "collapsed": false
   },
   "outputs": [
    {
     "name": "stdout",
     "output_type": "stream",
     "text": [
      " int add call \n",
      "10\n",
      " string  add call \n",
      "a + b\n",
      " list  add call \n",
      "[1, 2, 3, 4, 5, 6]\n",
      " dict  add call \n",
      "{'a': 10, 'b': [4, 5, 6]}\n"
     ]
    }
   ],
   "source": [
    "from multipledispatch import dispatch\n",
    "\n",
    "@dispatch(int, int)\n",
    "def add(x, y):\n",
    "    print(\" int add call \")\n",
    "    return x + y    \n",
    "\n",
    "@dispatch(str, str)\n",
    "def add(x, y):\n",
    "    print(\" string  add call \")\n",
    "    return \"%s + %s\" % (x, y)\n",
    "\n",
    "@dispatch(list, list)\n",
    "def add(x, y):\n",
    "    print(\" list  add call \")\n",
    "    return x + y\n",
    "\n",
    "@dispatch(dict, dict)\n",
    "def add(x, y):\n",
    "    print(\" dict  add call \")\n",
    "    x.update(y)\n",
    "    return x\n",
    "\n",
    "print(add(5,5))\n",
    "print(add(\"a\",\"b\"))\n",
    "\n",
    "print(add([1,2,3],[4,5,6]))\n",
    "print(add({\"a\": 10},{'b': [4,5,6]}))\n"
   ]
  },
  {
   "cell_type": "code",
   "execution_count": 10,
   "metadata": {
    "collapsed": false
   },
   "outputs": [
    {
     "data": {
      "text/plain": [
       "['__annotations__',\n",
       " '__call__',\n",
       " '__class__',\n",
       " '__closure__',\n",
       " '__code__',\n",
       " '__defaults__',\n",
       " '__delattr__',\n",
       " '__dict__',\n",
       " '__dir__',\n",
       " '__doc__',\n",
       " '__eq__',\n",
       " '__format__',\n",
       " '__ge__',\n",
       " '__get__',\n",
       " '__getattribute__',\n",
       " '__globals__',\n",
       " '__gt__',\n",
       " '__hash__',\n",
       " '__init__',\n",
       " '__init_subclass__',\n",
       " '__kwdefaults__',\n",
       " '__le__',\n",
       " '__lt__',\n",
       " '__module__',\n",
       " '__name__',\n",
       " '__ne__',\n",
       " '__new__',\n",
       " '__qualname__',\n",
       " '__reduce__',\n",
       " '__reduce_ex__',\n",
       " '__repr__',\n",
       " '__setattr__',\n",
       " '__sizeof__',\n",
       " '__str__',\n",
       " '__subclasshook__']"
      ]
     },
     "execution_count": 10,
     "metadata": {},
     "output_type": "execute_result"
    }
   ],
   "source": [
    "dir(dispatch)"
   ]
  },
  {
   "cell_type": "code",
   "execution_count": null,
   "metadata": {
    "collapsed": true
   },
   "outputs": [],
   "source": []
  }
 ],
 "metadata": {
  "kernelspec": {
   "display_name": "Python 3",
   "language": "python",
   "name": "python3"
  },
  "language_info": {
   "codemirror_mode": {
    "name": "ipython",
    "version": 3
   },
   "file_extension": ".py",
   "mimetype": "text/x-python",
   "name": "python",
   "nbconvert_exporter": "python",
   "pygments_lexer": "ipython3",
   "version": "3.6.0"
  }
 },
 "nbformat": 4,
 "nbformat_minor": 1
}
