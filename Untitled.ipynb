{
 "cells": [
  {
   "cell_type": "code",
   "execution_count": 5,
   "metadata": {
    "collapsed": false
   },
   "outputs": [
    {
     "name": "stdout",
     "output_type": "stream",
     "text": [
      "('a', 'inner')\n",
      "5\n",
      "<function outer.<locals>.inner at 0x0000000004D62D08>\n",
      "locals 5\n",
      "15\n"
     ]
    }
   ],
   "source": [
    "def outer(a) :\n",
    "    def inner(b) :\n",
    "        print(\"locals\",locals()[inner.__code__.co_freevars[0]])\n",
    "        return a+b\n",
    "    return inner\n",
    "\n",
    "a = outer(5)\n",
    "print(a.__code__.co_freevars)\n",
    "print(a.__closure__[0].cell_contents)\n",
    "print(a.__closure__[1].cell_contents)\n",
    "\n",
    "print(a(10))"
   ]
  },
  {
   "cell_type": "code",
   "execution_count": null,
   "metadata": {
    "collapsed": true
   },
   "outputs": [],
   "source": []
  }
 ],
 "metadata": {
  "kernelspec": {
   "display_name": "Python [conda root]",
   "language": "python",
   "name": "conda-root-py"
  },
  "language_info": {
   "codemirror_mode": {
    "name": "ipython",
    "version": 3
   },
   "file_extension": ".py",
   "mimetype": "text/x-python",
   "name": "python",
   "nbconvert_exporter": "python",
   "pygments_lexer": "ipython3",
   "version": "3.5.2"
  }
 },
 "nbformat": 4,
 "nbformat_minor": 1
}
