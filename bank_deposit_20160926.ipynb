{
 "cells": [
  {
   "cell_type": "markdown",
   "metadata": {},
   "source": [
    "# 은행 계좌 신규, 입금, 출금 처리하기\n",
    "\n",
    "     1. 은행 계좌만들기\n",
    "     2. 계좌에 대한 입출금처리하기\n",
    "     "
   ]
  },
  {
   "cell_type": "markdown",
   "metadata": {},
   "source": [
    "## 계좌번호 채번하기\n",
    "    \n",
    "    계좌번호를 채번을 관리하는 것 하나의 class로 관리"
   ]
  },
  {
   "cell_type": "code",
   "execution_count": 49,
   "metadata": {
    "collapsed": false
   },
   "outputs": [
    {
     "name": "stdout",
     "output_type": "stream",
     "text": [
      "Overwriting bank/AccountNumber.py\n"
     ]
    }
   ],
   "source": [
    "%%writefile bank/AccountNumber.py\n",
    "\n",
    "# -*- coding: utf-8 -*-\n",
    "\"\"\"\n",
    "Created on Mon Feb 29 16:58:53 2016\n",
    "\n",
    "@author: 06411\n",
    "\"\"\"\n",
    "\n",
    "\n",
    "class Account_Nubmer(object) :\n",
    "    _Account_No = 0\n",
    "    @classmethod\n",
    "    def set_AN(cls) :\n",
    "        cls._Account_No  +=1\n",
    "        \n",
    "    @classmethod\n",
    "    def get_AN(cls) :\n",
    "        if not cls._Account_No  :\n",
    "            cls.set_AN()\n",
    "        return cls._Account_No \n"
   ]
  },
  {
   "cell_type": "markdown",
   "metadata": {},
   "source": [
    "## 수신계좌 만들기\n",
    "\n",
    "     수신은 예금을 관리하는 계좌이며 신규, 출금, 입금, 거래내역을 관리"
   ]
  },
  {
   "cell_type": "code",
   "execution_count": 51,
   "metadata": {
    "collapsed": false
   },
   "outputs": [
    {
     "name": "stdout",
     "output_type": "stream",
     "text": [
      "Overwriting bank/Account.py\n"
     ]
    }
   ],
   "source": [
    "%%writefile bank/Account.py\n",
    "# -*- coding: utf-8 -*-\n",
    "\"\"\"\n",
    "Created on Mon Feb 29 12:09:56 2016\n",
    "\n",
    "@author: 06411\n",
    "\"\"\"\n",
    "\n",
    "\n",
    "import AccountNumber as an\n",
    "\n",
    "class DepositAccount(object) :\n",
    "    \n",
    "    def __init__(self,tr) :\n",
    "        \n",
    "        if tr.event == 'issue' :\n",
    "            self.account_no = an.Account_Nubmer.get_AN()\n",
    "        else :\n",
    "            self.account_no = tr.account_no\n",
    "        self.amount = 0\n",
    "        self.dalist_no =0\n",
    "        self.dalist = DAList(self.account_no,self.get_dalist(),tr.event,tr.amount)\n",
    "            \n",
    "\n",
    "    def get_account(self) :\n",
    "        return (self.account_no,self.amount)\n",
    "        \n",
    "    def get_dalist(self) :\n",
    "        self.dalist_no +=1\n",
    "        return self.dalist_no\n",
    "            \n",
    "    def set_account(self,tr) :\n",
    "        \n",
    "        if tr.event == \"issue\" :\n",
    "            pass\n",
    "        else : \n",
    "            self.dalist = DAList(self.account_no,self.get_dalist(),tr.event,tr.amount)\n",
    "        \n",
    "        if tr.event == 'debt' :\n",
    "            self.amount -= tr.amount\n",
    "        else :\n",
    "            self.amount += tr.amount\n",
    "                \n",
    "class DAList(object) :\n",
    "    dalist= list()\n",
    "    def __init__(self,account_no,no,event,amount) :\n",
    "        self.account_no = account_no\n",
    "        self.no = no\n",
    "        self.event = event\n",
    "        self.amount = amount\n",
    "        self.dalist.append(self)\n",
    "    \n",
    "    def get_DAList(self) :\n",
    "        v = []\n",
    "        for ll  in self.dalist :\n",
    "            v.append(ll.__dict__)\n",
    "        return v\n",
    "            "
   ]
  },
  {
   "cell_type": "markdown",
   "metadata": {},
   "source": [
    "## 회계 처리\n",
    "\n",
    "    총계정원장 및 계정원장을 관리"
   ]
  },
  {
   "cell_type": "code",
   "execution_count": 22,
   "metadata": {
    "collapsed": false
   },
   "outputs": [
    {
     "name": "stdout",
     "output_type": "stream",
     "text": [
      "Writing bank/general_ledger.py\n"
     ]
    }
   ],
   "source": [
    "%%writefile bank/general_ledger.py\n",
    "# -*- coding: utf-8 -*-\n",
    "\"\"\"\n",
    "Created on Mon Feb 29 16:15:51 2016\n",
    "\n",
    "@author: 06411\n",
    "\"\"\"\n",
    "\n",
    "class BankDepositAccount(object) :\n",
    "    def __init__(self) :\n",
    "        self.account_code = 1\n",
    "        self.debtamount =0\n",
    "        self.creditamount= 0\n",
    "        \n",
    "    def get_DepositAccount(self) :\n",
    "        return (self.account_code,self.debtamount, self.creditamount)\n",
    "        \n",
    "    def set_DepositAccout(self, tr) :\n",
    "        print('tr_event', tr.event)\n",
    "        if tr.event == \"debt\" :\n",
    "            self.debtamount += tr.amount\n",
    "        else :\n",
    "            self.creditamount += tr.amount\n",
    "            \n",
    "class GeneralLedger(object) :\n",
    "    def __init__(self) :\n",
    "        self.GL_account =1\n",
    "        self.GL_debt =0\n",
    "        self.GL_credit =0\n",
    "        \n",
    "    def get_GL(self) :\n",
    "        return (self.GL_account, self.GL_debt, self.GL_credit)\n",
    "        \n",
    "    def set_GL(self,tr) :\n",
    "        \n",
    "        if tr.event == \"debt\" :\n",
    "            self.GL_debt += tr.amount\n",
    "        else :\n",
    "            self.GL_credit += tr.amount"
   ]
  },
  {
   "cell_type": "markdown",
   "metadata": {},
   "source": [
    "##  거래 발생 처리하기\n",
    "\n",
    "     은행 거래에 대한 발생 기준을 만들고 조회"
   ]
  },
  {
   "cell_type": "code",
   "execution_count": 25,
   "metadata": {
    "collapsed": false
   },
   "outputs": [
    {
     "name": "stdout",
     "output_type": "stream",
     "text": [
      "Writing bank/transaction.py\n"
     ]
    }
   ],
   "source": [
    "%%writefile bank/transaction.py\n",
    "# -*- coding: utf-8 -*-\n",
    "\"\"\"\n",
    "Created on Mon Feb 29 16:18:08 2016\n",
    "\n",
    "@author: 06411\n",
    "\"\"\"\n",
    "\n",
    "class Transaction(object) :\n",
    "    def __init__(self,tr_no,event,account_no,amount):\n",
    "        self.tr_no = tr_no\n",
    "        #event :debt, credit,issue\n",
    "        self.account_no = account_no\n",
    "        self.event = event\n",
    "       \n",
    "        self.amount = amount\n",
    "       \n",
    "    def get_Transaction(self) :\n",
    "        return (self.tr_no, self.event, self.account_no, self.amount)\n",
    "        "
   ]
  },
  {
   "cell_type": "markdown",
   "metadata": {},
   "source": [
    "## 실제 모든 거래를 처리하는 main\n",
    "\n",
    "    실제 은행 업무 처리하기\n",
    "    "
   ]
  },
  {
   "cell_type": "code",
   "execution_count": 37,
   "metadata": {
    "collapsed": false
   },
   "outputs": [
    {
     "name": "stdout",
     "output_type": "stream",
     "text": [
      "Overwriting bank/main.py\n"
     ]
    }
   ],
   "source": [
    "%%writefile bank/main.py\n",
    "\n",
    "# -*- coding: utf-8 -*-\n",
    "\"\"\"\n",
    "Created on Mon Feb 29 16:36:27 2016\n",
    "\n",
    "@author: 06411\n",
    "\"\"\"\n",
    "\n",
    "import transaction as ttt\n",
    "import general_ledger as ggg\n",
    "import Account as ddd\n",
    "            \n",
    "print(\" create bank account  \")\n",
    "ba = ggg.BankDepositAccount()\n",
    "gl = ggg.GeneralLedger()\n",
    "    \n",
    "print(\" issue deposit account \")\n",
    "tr0 = ttt.Transaction(1,\"issue\",0,100)\n",
    "\n",
    "print(\" issue customer account \")\n",
    "da = ddd.DepositAccount(tr0)\n",
    "tr0.account_no = da.account_no\n",
    "\n",
    "da.set_account(tr0)\n",
    "ba.set_DepositAccout(tr0)\n",
    "gl.set_GL(tr0)\n",
    "print(\" inquery customer account :\",da.get_account())\n",
    "print(\" inquery deposit account  :\",ba.get_DepositAccount())\n",
    "print(\" inquery general ledager  :\",gl.get_GL())\n",
    "\n",
    "\n",
    "print(\" credit deposit account \")\n",
    "tr1 = ttt.Transaction(1,\"credit\",1,100)\n",
    "da.set_account(tr1)\n",
    "ba.set_DepositAccout(tr1)\n",
    "gl.set_GL(tr1)\n",
    "\n",
    "print(\" inquery customer account :\",da.get_account())\n",
    "print(\" inquery deposit account  :\",ba.get_DepositAccount())\n",
    "print(\" inquery general ledager  :\",gl.get_GL())\n",
    "\n",
    "\n",
    "print(\" debt deposit accoutn \")\n",
    "print(\" debt deposit account \")\n",
    "\n",
    "tr2 = ttt.Transaction(1,\"debt\",1,100)\n",
    "da.set_account(tr2)\n",
    "ba.set_DepositAccout(tr2)\n",
    "gl.set_GL(tr2)\n",
    "print(\" inquery customer account :\",da.get_account())\n",
    "print(\" inquery deposit account  :\",ba.get_DepositAccount())\n",
    "print(\" inquery general ledager  :\",gl.get_GL())\n",
    "\n",
    "print(\" DAlist \", da.dalist.get_DAList())"
   ]
  },
  {
   "cell_type": "code",
   "execution_count": 52,
   "metadata": {
    "collapsed": false
   },
   "outputs": [
    {
     "name": "stdout",
     "output_type": "stream",
     "text": [
      " create bank account  \r\n",
      " issue deposit account \r\n",
      " issue customer account \r\n",
      "('tr_event', 'issue')\r\n",
      "(' inquery customer account :', (1, 100))\r\n",
      "(' inquery deposit account  :', (1, 0, 100))\r\n",
      "(' inquery general ledager  :', (1, 0, 100))\r\n",
      " credit deposit account \r\n",
      "('tr_event', 'credit')\r\n",
      "(' inquery customer account :', (1, 200))\r\n",
      "(' inquery deposit account  :', (1, 0, 200))\r\n",
      "(' inquery general ledager  :', (1, 0, 200))\r\n",
      " debt deposit accoutn \r\n",
      " debt deposit account \r\n",
      "('tr_event', 'debt')\r\n",
      "(' inquery customer account :', (1, 100))\r\n",
      "(' inquery deposit account  :', (1, 100, 200))\r\n",
      "(' inquery general ledager  :', (1, 100, 200))\r\n",
      "(' DAlist ', [{'amount': 100, 'no': 1, 'event': 'issue', 'account_no': 1}, {'amount': 100, 'no': 2, 'event': 'credit', 'account_no': 1}, {'amount': 100, 'no': 3, 'event': 'debt', 'account_no': 1}])\r\n"
     ]
    }
   ],
   "source": [
    "!python bank/main.py"
   ]
  },
  {
   "cell_type": "code",
   "execution_count": null,
   "metadata": {
    "collapsed": true
   },
   "outputs": [],
   "source": []
  }
 ],
 "metadata": {
  "kernelspec": {
   "display_name": "Python 2",
   "language": "python",
   "name": "python2"
  },
  "language_info": {
   "codemirror_mode": {
    "name": "ipython",
    "version": 2
   },
   "file_extension": ".py",
   "mimetype": "text/x-python",
   "name": "python",
   "nbconvert_exporter": "python",
   "pygments_lexer": "ipython2",
   "version": "2.7.6"
  }
 },
 "nbformat": 4,
 "nbformat_minor": 0
}
