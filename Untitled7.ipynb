{
 "cells": [
  {
   "cell_type": "code",
   "execution_count": 3,
   "metadata": {
    "collapsed": false
   },
   "outputs": [
    {
     "name": "stdout",
     "output_type": "stream",
     "text": [
      "{'y': 2, 'x': 1}\n"
     ]
    }
   ],
   "source": [
    "def add(x,y):\n",
    "    print(vars())\n",
    "\n",
    "add(1,2)\n"
   ]
  },
  {
   "cell_type": "code",
   "execution_count": 8,
   "metadata": {
    "collapsed": false
   },
   "outputs": [
    {
     "name": "stdout",
     "output_type": "stream",
     "text": [
      "{'z': 5}\n",
      "<function outer.<locals>.inner at 0x10488f2f0>\n",
      "{'y': 5, 'z': 5}\n",
      "110\n",
      "{'y': 10, 'z': 5}\n",
      "115\n"
     ]
    }
   ],
   "source": [
    "def outer(z):\n",
    "    print(locals())\n",
    "    def inner(y):\n",
    "        print(locals())\n",
    "        return x + y + z\n",
    "    return inner\n",
    "\n",
    "class A (object):\n",
    "    def __init__ (self, name):\n",
    "        self.name = name\n",
    "\n",
    "x = 100\n",
    "a0 = A('park')\n",
    "a0.name = 'park'\n",
    "a = outer(5) # z\n",
    "print(a)\n",
    "print(a(5)) # y\n",
    "\n",
    "outer.a = a\n",
    "print(outer.a(10))"
   ]
  },
  {
   "cell_type": "code",
   "execution_count": 16,
   "metadata": {
    "collapsed": false
   },
   "outputs": [
    {
     "name": "stdout",
     "output_type": "stream",
     "text": [
      "10\n",
      "20\n",
      "20\n"
     ]
    }
   ],
   "source": [
    "def outer(x):\n",
    "    def inner(y):\n",
    "        nonlocal x\n",
    "        x += y\n",
    "        return x\n",
    "    return inner\n",
    "\n",
    "inner = outer(5)\n",
    "print(inner(5))\n",
    "\n",
    "print(inner(10))\n",
    "print(inner.__closure__[0].cell_contents)"
   ]
  },
  {
   "cell_type": "code",
   "execution_count": 25,
   "metadata": {
    "collapsed": false
   },
   "outputs": [
    {
     "name": "stdout",
     "output_type": "stream",
     "text": [
      "10\n",
      "12\n"
     ]
    }
   ],
   "source": [
    "from functools import wraps\n",
    "\n",
    "def dec(func):\n",
    "    @wraps(func) # 메타 정보 관리\n",
    "    def wrapper(*args, **kwargs): # *: 가변인자 / **: 키워드인자\n",
    "        result = func(*args, **kwargs)\n",
    "        return result\n",
    "    return wrapper\n",
    "\n",
    "# @dec: 함수의 재사용 / 클래스에도 사용됨 / 단점: 메타 정보 날라감\n",
    "@dec # @dec 사용하지 않을 경우: add = dec(add) ; def add(x, y): return x + y ;\n",
    "def add(x, y):\n",
    "    return x + y\n",
    "\n",
    "@dec\n",
    "def multiply(x, y):\n",
    "    return x * y\n",
    "\n",
    "print(add(5, 5))\n",
    "print(multiply(4, 3))"
   ]
  },
  {
   "cell_type": "code",
   "execution_count": 32,
   "metadata": {
    "collapsed": false
   },
   "outputs": [
    {
     "name": "stdout",
     "output_type": "stream",
     "text": [
      "20\n"
     ]
    }
   ],
   "source": [
    "add = dec(add)\n",
    "print(add(10, 10))\n",
    "# add = dec(1, 2)(add) ?????"
   ]
  },
  {
   "cell_type": "code",
   "execution_count": 36,
   "metadata": {
    "collapsed": false
   },
   "outputs": [
    {
     "data": {
      "text/plain": [
       "['__class__',\n",
       " '__delattr__',\n",
       " '__dict__',\n",
       " '__dir__',\n",
       " '__doc__',\n",
       " '__eq__',\n",
       " '__format__',\n",
       " '__func__',\n",
       " '__ge__',\n",
       " '__get__',\n",
       " '__getattribute__',\n",
       " '__gt__',\n",
       " '__hash__',\n",
       " '__init__',\n",
       " '__isabstractmethod__',\n",
       " '__le__',\n",
       " '__lt__',\n",
       " '__ne__',\n",
       " '__new__',\n",
       " '__reduce__',\n",
       " '__reduce_ex__',\n",
       " '__repr__',\n",
       " '__setattr__',\n",
       " '__sizeof__',\n",
       " '__str__',\n",
       " '__subclasshook__']"
      ]
     },
     "execution_count": 36,
     "metadata": {},
     "output_type": "execute_result"
    }
   ],
   "source": [
    "dir(classmethod)"
   ]
  },
  {
   "cell_type": "code",
   "execution_count": 35,
   "metadata": {
    "collapsed": false
   },
   "outputs": [
    {
     "data": {
      "text/plain": [
       "type"
      ]
     },
     "execution_count": 35,
     "metadata": {},
     "output_type": "execute_result"
    }
   ],
   "source": [
    "type(classmethod)"
   ]
  },
  {
   "cell_type": "code",
   "execution_count": 38,
   "metadata": {
    "collapsed": false
   },
   "outputs": [
    {
     "data": {
      "text/plain": [
       "9"
      ]
     },
     "execution_count": 38,
     "metadata": {},
     "output_type": "execute_result"
    }
   ],
   "source": [
    "class A (object):\n",
    "    @staticmethod\n",
    "    def add(x, y):\n",
    "        return x + y   \n",
    "    \n",
    "A.add(5, 4)"
   ]
  },
  {
   "cell_type": "code",
   "execution_count": 68,
   "metadata": {
    "collapsed": false
   },
   "outputs": [
    {
     "name": "stdout",
     "output_type": "stream",
     "text": [
      "Choi!!!\n",
      "You're Twenty six year-old? OMG!!!\n"
     ]
    }
   ],
   "source": [
    "class Person(object):\n",
    "    def __init__(self, name, age):\n",
    "        self._name = name\n",
    "        self._age = age\n",
    "        \n",
    "    @property\n",
    "    def name(self):\n",
    "        return self._name + '!!!'\n",
    "    \n",
    "    @property\n",
    "    def age(self):\n",
    "        return 'You\\'re ' + self._age + '? OMG!!!'\n",
    "\n",
    "p = Person('Choi', 'Twenty six year-old')\n",
    "print(p.name)\n",
    "print(p.age)"
   ]
  },
  {
   "cell_type": "code",
   "execution_count": 61,
   "metadata": {
    "collapsed": false
   },
   "outputs": [
    {
     "name": "stdout",
     "output_type": "stream",
     "text": [
      "Park!!!\n",
      "Choi!!!\n"
     ]
    }
   ],
   "source": [
    "class Person(object):\n",
    "    def __init__ (self, name):\n",
    "        self._name = name\n",
    "    \n",
    "    @property\n",
    "    def name(self):\n",
    "        return self._name + '!!!'\n",
    "    \n",
    "    @name.setter\n",
    "    def name(self, value):\n",
    "        self._name = value\n",
    "        \n",
    "p = Person('Park')\n",
    "print(p.name)\n",
    "p.name = 'Choi' # set해서, @name.setter 발동!\n",
    "print(p.name)"
   ]
  },
  {
   "cell_type": "code",
   "execution_count": null,
   "metadata": {
    "collapsed": true
   },
   "outputs": [],
   "source": []
  }
 ],
 "metadata": {
  "kernelspec": {
   "display_name": "Python 3",
   "language": "python",
   "name": "python3"
  },
  "language_info": {
   "codemirror_mode": {
    "name": "ipython",
    "version": 3
   },
   "file_extension": ".py",
   "mimetype": "text/x-python",
   "name": "python",
   "nbconvert_exporter": "python",
   "pygments_lexer": "ipython3",
   "version": "3.5.2"
  }
 },
 "nbformat": 4,
 "nbformat_minor": 1
}
