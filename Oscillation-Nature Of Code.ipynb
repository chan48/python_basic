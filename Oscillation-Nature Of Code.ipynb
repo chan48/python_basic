{
 "cells": [
  {
   "cell_type": "markdown",
   "metadata": {},
   "source": [
    "# 진동(Oscillation)\n",
    "\n",
    "* ease-in 또는 ease-out 진동 패턴을 만들 때 사용할 수 있는 사인 함수와 코사인 함수\n",
    "![](https://cdn.css-tricks.com/wp-content/uploads/2016/05/ease-in-out.gif)\n",
    "\n",
    "* 용수철 및 진자 운동 등에 대한 계산\n",
    "\n",
    "## 각도\n",
    "\n",
    "### Degree\n",
    "\n",
    "* Degree 또는 Radian이 있음\n",
    "* Degree는 한바퀴 도는 것을 360도로 하여, 각도를 표현하는 것. 직각은 90도\n",
    "![](http://natureofcode.com/book/imgs/chapter03/ch03_01.png)\n",
    "\n",
    "* 다음은 45도로 돌은 사각형\n",
    "![](http://natureofcode.com/book/imgs/chapter03/ch03_02.png)\n",
    "\n",
    "### Radian\n",
    "\n",
    "* 1라디안은 '호의 길이'와 '반지름'의 길이가 같아지는 시점의 각도\n",
    "* 180도 = $\\pi$라디안, 360도 = $2\\pi$, 90도 = $\\frac{\\pi}{2}$\n",
    "![](http://natureofcode.com/book/imgs/chapter03/ch03_03.png)\n",
    "\n",
    "* Radian과 Degree 변환 공식\n",
    "\n",
    "$$\n",
    "Radian = 2 \\pi (degree / 360)\n",
    "$$\n",
    "\n",
    "* Processing에서는 $\\pi$는 'PI'라고 그냥 쓰면 됨"
   ]
  },
  {
   "cell_type": "markdown",
   "metadata": {},
   "source": [
    "## 회전 운동 (Angular Motion)\n",
    "\n",
    "* position = position + velocity $\\times$ time\n",
    "* velocity = velocity + acceleration $\\times$ time\n",
    "* degree = degree + angular velocity $\\times$ time\n",
    "* angular velocity = angular velocity + angular acceleration $\\times$ time"
   ]
  },
  {
   "cell_type": "markdown",
   "metadata": {},
   "source": [
    "## 삼각법\n",
    "\n",
    "* Sine, Cosine, Tangent\n",
    "\n",
    "![](http://natureofcode.com/book/imgs/chapter03/ch03_04.png)\n"
   ]
  },
  {
   "cell_type": "markdown",
   "metadata": {},
   "source": [
    "* sin = opposite / hypotenuse\n",
    "* cos = adjacent / hypotenuse\n",
    "* tan = opposite / adjacent\n"
   ]
  },
  {
   "cell_type": "markdown",
   "metadata": {},
   "source": [
    "## 이동 방향의 목적지\n",
    "\n",
    "![](http://natureofcode.com/book/imgs/chapter03/ch03_06.png)\n",
    "\n",
    "* 원의 경우는 회전에 대해서 고려할 필요가 없습니다. 어느 방향을 보든 동일하기 때문입니다.\n",
    "* 하지만 그 외의 물체의 경우는 아닙니다. 그러므로 물체의 표시 방향(각도)를 구해야 합니다.\n",
    "$$\n",
    "angle = \\arctan \\left( \\frac{velocity_{y}}{velocity_{x}} \\right)\n",
    "$$\n",
    "* atan2를 사용하면 부호 등의 문제를 넘어갈 수 있습니다."
   ]
  },
  {
   "cell_type": "markdown",
   "metadata": {},
   "source": [
    "## 극 좌표계와 직교 좌표계\n",
    "\n",
    "* x와 y좌표계를 가지고 물체의 위치를 표시하는 좌표계를 직교 좌표계(Cartesian Coordinate)\n",
    "* 이를 반지름(r)과 각도($\\theta$)로 표시하는 좌표계를 극 좌표계(Polar Coordinate)\n",
    "* 하지만 프로세싱에서는 극 좌표계를 이해하지 못 함\n",
    "![](http://natureofcode.com/book/imgs/chapter03/ch03_08.png)\n",
    "\n",
    "$$\n",
    "\\sin(\\theta) = \\frac{y}{r} \\rightarrow y = r \\sin(\\theta) \\\\\n",
    "\\cos(\\theta) = \\frac{x}{r} \\rightarrow y = r \\cos(\\theta) \n",
    "$$"
   ]
  },
  {
   "cell_type": "markdown",
   "metadata": {},
   "source": [
    "## 진동의 진폭과 주기 (Oscillation Amplitude and Period)\n",
    "\n",
    "![Sin 그래프](http://natureofcode.com/book/imgs/chapter03/ch03_09.png)\n",
    "\n",
    "* 이런 형태의 곡선을 진동이라고 부름\n",
    "\n",
    "* Simple Harmonic Motion 단순 조화 운동 : 단순히 왔다 갔다 하는 운동\n",
    "* 진폭(amplitude) : 움직임의 중심과 가장 멀리 이동했을 때의 거리\n",
    "* 주기(period) : 한 번 완전히 진동하는데 걸리는 시간\n",
    "\n",
    "* 위 그래프에서는 높낮이가 진폭에 해당, $2 \\pi$까지 한 바퀴 도는 거 주기\n",
    "\n",
    "* 프로세싱에서는 millis라는 것을 이용하여 시간을 알 수 있지만, 여기서는 프레임 단위로...\n",
    "\n",
    "* 진동수 : 진동수는 단위 시간당 진동한 횟수를 의미 : 1 / period"
   ]
  },
  {
   "cell_type": "markdown",
   "metadata": {},
   "source": [
    "## 각속도와 진동(Oscillation with Angular Velocity)"
   ]
  },
  {
   "cell_type": "markdown",
   "metadata": {},
   "source": [
    "## 각속도와 진동(Oscillation with Angular Velocity)\n",
    "\n",
    "* 각속도와 각가속도를 이용하여 에니메이션하기\n",
    "\n",
    "```\n",
    "angle += aVelocity;\n",
    "float x = amplitude * cos(angle);\n",
    "```\n"
   ]
  },
  {
   "cell_type": "markdown",
   "metadata": {},
   "source": [
    "## 파동(Waves)\n",
    "\n",
    "* 파동 패턴은 물 같은 매끄러운 표면은 물론이고 인체 또는 생명체의 기관을 디자인하는 데도 사용합니다.\n"
   ]
  },
  {
   "cell_type": "markdown",
   "metadata": {},
   "source": [
    "## 삼각법과 힘: 진자\n",
    "\n",
    "* 2차원 추를 만들고 이를 이용하여 표현\n",
    "\n",
    "![](http://natureofcode.com/book/imgs/chapter03/ch03_10.png)\n",
    "![](http://natureofcode.com/book/imgs/chapter03/ch03_11.png)\n",
    "![](http://natureofcode.com/book/imgs/chapter03/ch03_12.png)"
   ]
  },
  {
   "cell_type": "markdown",
   "metadata": {},
   "source": [
    "* $F_{p} = F_{g} \\sin(\\theta)$\n",
    "* 진자의 각속도는 어떻게 될까?\n"
   ]
  },
  {
   "cell_type": "markdown",
   "metadata": {},
   "source": [
    "## 용수철 힘(Spring Forces)\n",
    "\n",
    "![](http://natureofcode.com/book/imgs/chapter03/ch03_14.png)\n",
    "\n",
    "* 용수철의 힘은 용수철이 늘어나는 길이와 정비례한다.\n",
    "* $F=-kx$\n",
    "\n",
    "![](http://natureofcode.com/book/imgs/chapter03/ch03_15.png)\n",
    "\n",
    "* k는 용수철의 탄성을 나타내는 상수입니다. 스프링의 탄성이 강하면 높고, 약하면 낮습니다.\n",
    "* x는 용수철의 변위(기본 길이와 정지 시점에서의 길이의 차이)를 나타냅니다. 이때 기본 길이는 원래 용수철이 평형 상태(그냥 두었을 때)의 길이를 나타냅니다.\n",
    "\n",
    "![](http://natureofcode.com/book/imgs/chapter03/ch03_16.png)\n",
    "\n",
    "![](http://natureofcode.com/book/imgs/chapter03/ch03_17.png)\n",
    "\n"
   ]
  },
  {
   "cell_type": "code",
   "execution_count": null,
   "metadata": {
    "collapsed": true
   },
   "outputs": [],
   "source": []
  }
 ],
 "metadata": {
  "kernelspec": {
   "display_name": "Python 2",
   "language": "python",
   "name": "python2"
  },
  "language_info": {
   "codemirror_mode": {
    "name": "ipython",
    "version": 2
   },
   "file_extension": ".py",
   "mimetype": "text/x-python",
   "name": "python",
   "nbconvert_exporter": "python",
   "pygments_lexer": "ipython2",
   "version": "2.7.12"
  }
 },
 "nbformat": 4,
 "nbformat_minor": 0
}
