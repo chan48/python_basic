{
 "cells": [
  {
   "cell_type": "code",
   "execution_count": 2,
   "metadata": {
    "collapsed": false
   },
   "outputs": [
    {
     "name": "stdout",
     "output_type": "stream",
     "text": [
      "(4, 5)\n"
     ]
    }
   ],
   "source": [
    "p = ( 4,5)\n",
    "print(p)"
   ]
  },
  {
   "cell_type": "code",
   "execution_count": 4,
   "metadata": {
    "collapsed": false
   },
   "outputs": [
    {
     "name": "stdout",
     "output_type": "stream",
     "text": [
      "4 5\n"
     ]
    }
   ],
   "source": [
    "x,y = p\n",
    "print(x,y)"
   ]
  },
  {
   "cell_type": "code",
   "execution_count": 5,
   "metadata": {
    "collapsed": false
   },
   "outputs": [
    {
     "name": "stdout",
     "output_type": "stream",
     "text": [
      "1 [2, 3]\n"
     ]
    }
   ],
   "source": [
    "l= [1,2,3]\n",
    "a,*b =l\n",
    "print(a,b)"
   ]
  },
  {
   "cell_type": "code",
   "execution_count": 8,
   "metadata": {
    "collapsed": false
   },
   "outputs": [
    {
     "name": "stdout",
     "output_type": "stream",
     "text": [
      "<zip object at 0x0000000004E8E9C8>\n",
      "[(1, 1), (2, 2), (3, 3)]\n",
      "[(1, 1, 1), (2, 2, 2), (3, 3, 3)]\n"
     ]
    }
   ],
   "source": [
    "l= [1,2,3]\n",
    "m = [1,2,3]\n",
    "print(zip(l,m))\n",
    "\n",
    "print(list(zip(l,m)))\n",
    "n = [1,2,3]\n",
    "print(list(zip(l,m,n)))"
   ]
  },
  {
   "cell_type": "code",
   "execution_count": 13,
   "metadata": {
    "collapsed": false
   },
   "outputs": [
    {
     "name": "stdout",
     "output_type": "stream",
     "text": [
      "deque([])\n",
      "deque([1, 2, 3])\n"
     ]
    }
   ],
   "source": [
    "from collections import *\n",
    "\n",
    "a = deque()\n",
    "print(a)\n",
    "a.extend([1,2,3])\n",
    "print(a)"
   ]
  },
  {
   "cell_type": "code",
   "execution_count": 16,
   "metadata": {
    "collapsed": false
   },
   "outputs": [
    {
     "name": "stdout",
     "output_type": "stream",
     "text": [
      "append\n",
      "appendleft\n",
      "clear\n",
      "copy\n",
      "count\n",
      "extend\n",
      "extendleft\n",
      "index\n",
      "insert\n",
      "maxlen\n",
      "pop\n",
      "popleft\n",
      "remove\n",
      "reverse\n",
      "rotate\n"
     ]
    }
   ],
   "source": [
    "for method in dir(deque) :\n",
    "    if method.startswith('_') :\n",
    "        pass\n",
    "    else :\n",
    "        print(method)"
   ]
  },
  {
   "cell_type": "code",
   "execution_count": 25,
   "metadata": {
    "collapsed": false
   },
   "outputs": [
    {
     "name": "stdout",
     "output_type": "stream",
     "text": [
      "heapify\n",
      "heappop\n",
      "heappush\n",
      "heappushpop\n",
      "heapreplace\n",
      "merge\n",
      "nlargest\n",
      "nsmallest\n"
     ]
    }
   ],
   "source": [
    "import heapq\n",
    "for func in dir(heapq) :\n",
    "    if func.startswith('_') :\n",
    "        pass\n",
    "    else :\n",
    "        print(func)"
   ]
  },
  {
   "cell_type": "code",
   "execution_count": 31,
   "metadata": {
    "collapsed": false
   },
   "outputs": [
    {
     "name": "stdout",
     "output_type": "stream",
     "text": [
      " heapify  [-4, 0, 1, 5, 3]\n",
      " nums sort  [-4, 0, 1, 3, 5]\n"
     ]
    }
   ],
   "source": [
    "from heapq import *\n",
    "heap = []\n",
    "\n",
    "nums = [1,3,-4,5,0]\n",
    "heap = nums[:]\n",
    "heapify(heap)\n",
    "print(\" heapify \",heap)\n",
    "nums.sort()\n",
    "print(\" nums sort \",nums)"
   ]
  },
  {
   "cell_type": "code",
   "execution_count": 39,
   "metadata": {
    "collapsed": false
   },
   "outputs": [
    {
     "name": "stdout",
     "output_type": "stream",
     "text": [
      "clear\n",
      "copy\n",
      "fromkeys\n",
      "get\n",
      "items\n",
      "keys\n",
      "pop\n",
      "popitem\n",
      "setdefault\n",
      "update\n",
      "values\n"
     ]
    }
   ],
   "source": [
    "\n",
    "for func in dir(dict) :\n",
    "    if func.startswith('_') :\n",
    "        pass\n",
    "    else :\n",
    "        print(func)"
   ]
  },
  {
   "cell_type": "code",
   "execution_count": 35,
   "metadata": {
    "collapsed": false
   },
   "outputs": [
    {
     "name": "stdout",
     "output_type": "stream",
     "text": [
      "defaultdict(<class 'list'>, {})\n",
      "defaultdict(<class 'list'>, {'l': [1, 2, 3]})\n"
     ]
    }
   ],
   "source": [
    "from collections import *\n",
    "\n",
    "a = defaultdict(list)\n",
    "print(a)\n",
    "a['l'].extend([1,2,3])\n",
    "print(a)"
   ]
  },
  {
   "cell_type": "code",
   "execution_count": 38,
   "metadata": {
    "collapsed": false
   },
   "outputs": [
    {
     "name": "stdout",
     "output_type": "stream",
     "text": [
      "defaultdict(<class 'set'>, {})\n",
      "defaultdict(<class 'set'>, {'s': {1, 2, 3}})\n"
     ]
    }
   ],
   "source": [
    "from collections import *\n",
    "\n",
    "a = defaultdict(set)\n",
    "print(a)\n",
    "a['s'].update({1,2,3})\n",
    "print(a)"
   ]
  },
  {
   "cell_type": "code",
   "execution_count": 1,
   "metadata": {
    "collapsed": false
   },
   "outputs": [
    {
     "name": "stdout",
     "output_type": "stream",
     "text": [
      "Help on member descriptor collections.defaultdict.default_factory:\n",
      "\n",
      "default_factory\n",
      "    Factory for default value called by __missing__().\n",
      "\n",
      "[]\n"
     ]
    }
   ],
   "source": [
    "from collections import *\n",
    "help(defaultdict.default_factory)\n",
    "\n",
    "a = defaultdict(list)\n",
    "print(a['key'])\n"
   ]
  },
  {
   "cell_type": "code",
   "execution_count": 2,
   "metadata": {
    "collapsed": false
   },
   "outputs": [
    {
     "ename": "KeyError",
     "evalue": "'key'",
     "output_type": "error",
     "traceback": [
      "\u001b[0;31m---------------------------------------------------------------------------\u001b[0m",
      "\u001b[0;31mKeyError\u001b[0m                                  Traceback (most recent call last)",
      "\u001b[0;32m<ipython-input-2-3093a7790169>\u001b[0m in \u001b[0;36m<module>\u001b[0;34m()\u001b[0m\n\u001b[1;32m      1\u001b[0m \u001b[0md\u001b[0m \u001b[1;33m=\u001b[0m \u001b[0mdict\u001b[0m\u001b[1;33m(\u001b[0m\u001b[1;33m)\u001b[0m\u001b[1;33m\u001b[0m\u001b[0m\n\u001b[0;32m----> 2\u001b[0;31m \u001b[0mprint\u001b[0m\u001b[1;33m(\u001b[0m\u001b[0md\u001b[0m\u001b[1;33m[\u001b[0m\u001b[1;34m'key'\u001b[0m\u001b[1;33m]\u001b[0m\u001b[1;33m)\u001b[0m\u001b[1;33m\u001b[0m\u001b[0m\n\u001b[0m",
      "\u001b[0;31mKeyError\u001b[0m: 'key'"
     ]
    }
   ],
   "source": [
    "d = dict()\n",
    "print(d['key'])"
   ]
  },
  {
   "cell_type": "code",
   "execution_count": 5,
   "metadata": {
    "collapsed": false
   },
   "outputs": [
    {
     "name": "stdout",
     "output_type": "stream",
     "text": [
      "clear\n",
      "copy\n",
      "fromkeys\n",
      "get\n",
      "items\n",
      "keys\n",
      "move_to_end\n",
      "pop\n",
      "popitem\n",
      "setdefault\n",
      "update\n",
      "values\n"
     ]
    }
   ],
   "source": [
    "from collections import *\n",
    "for func in dir(OrderedDict) :\n",
    "    if func.startswith('_') :\n",
    "        pass\n",
    "    else :\n",
    "        print(func)\n"
   ]
  },
  {
   "cell_type": "code",
   "execution_count": 3,
   "metadata": {
    "collapsed": false
   },
   "outputs": [
    {
     "name": "stdout",
     "output_type": "stream",
     "text": [
      "Help on method_descriptor:\n",
      "\n",
      "move_to_end(...)\n",
      "    Move an existing element to the end (or beginning if last==False).\n",
      "    \n",
      "    Raises KeyError if the element does not exist.\n",
      "    When last=True, acts like a fast version of self[key]=self.pop(key).\n",
      "\n",
      "None\n"
     ]
    }
   ],
   "source": [
    "print(help(OrderedDict.move_to_end))"
   ]
  },
  {
   "cell_type": "code",
   "execution_count": 55,
   "metadata": {
    "collapsed": false
   },
   "outputs": [
    {
     "name": "stdout",
     "output_type": "stream",
     "text": [
      "{'a': 1, 'b': 2}\n",
      "OrderedDict([('b', 2), ('a', 1)])\n",
      "2\n",
      "OrderedDict([('a', 1)])\n",
      "2\n",
      "{'a': 1}\n"
     ]
    }
   ],
   "source": [
    "from collections import *\n",
    "d = {}\n",
    "d['a'] = 1\n",
    "d['b'] = 2 \n",
    "print(d)\n",
    "od = OrderedDict({'b':2, 'a':1})\n",
    "print(od)\n",
    "print(od.pop('b'))\n",
    "print(od)\n",
    "print(d.pop('b'))\n",
    "print(d)"
   ]
  },
  {
   "cell_type": "code",
   "execution_count": 56,
   "metadata": {
    "collapsed": false
   },
   "outputs": [
    {
     "name": "stdout",
     "output_type": "stream",
     "text": [
      "OrderedDict([('a', '1'), ('b', '2'), ('c', '3')])\n",
      "OrderedDict([('c', '3'), ('a', '1'), ('b', '2')])\n"
     ]
    }
   ],
   "source": [
    "from collections import *\n",
    "d1 = OrderedDict([('a', '1'), ('b', '2')])\n",
    "d1.update({'c':'3'})\n",
    "print(d1)\n",
    "d1.move_to_end('c', last=False)\n",
    "print(d1)\n"
   ]
  },
  {
   "cell_type": "code",
   "execution_count": 72,
   "metadata": {
    "collapsed": false
   },
   "outputs": [
    {
     "name": "stdout",
     "output_type": "stream",
     "text": [
      "add\n",
      "<class 'function'>\n",
      "(10,)\n",
      "<code object add at 0x0000000004F06DB0, file \"<ipython-input-72-41ae67b396c8>\", line 2>\n",
      "100\n",
      "None\n",
      "20\n",
      "10\n"
     ]
    }
   ],
   "source": [
    "x = 100\n",
    "def add(x,y=10) :\n",
    "    def inner() :\n",
    "        return x+y\n",
    "    return inner\n",
    "\n",
    "print(add.__name__)\n",
    "print(add.__class__)\n",
    "print(add.__defaults__)\n",
    "print(add.__code__)\n",
    "print(add.__globals__['x'])\n",
    "print(add.__closure__)\n",
    "\n",
    "a = add(20)\n",
    "print(a.__closure__[0].cell_contents)\n",
    "print(a.__closure__[1].cell_contents)\n"
   ]
  },
  {
   "cell_type": "code",
   "execution_count": 78,
   "metadata": {
    "collapsed": false
   },
   "outputs": [
    {
     "name": "stdout",
     "output_type": "stream",
     "text": [
      "{'x': <class 'int'>, 'y': <class 'int'>, 'return': <class 'int'>}\n",
      "(x:int, y:int) -> int\n"
     ]
    }
   ],
   "source": [
    "def add(x:int,y:int) -> int :\n",
    "    def inner() :\n",
    "        return x+y\n",
    "    return inner\n",
    "\n",
    "print(add.__annotations__)\n",
    "import inspect \n",
    "print(inspect.signature(add))"
   ]
  },
  {
   "cell_type": "code",
   "execution_count": 77,
   "metadata": {
    "collapsed": false
   },
   "outputs": [
    {
     "data": {
      "text/plain": [
       "['__annotations__',\n",
       " '__call__',\n",
       " '__class__',\n",
       " '__closure__',\n",
       " '__code__',\n",
       " '__defaults__',\n",
       " '__delattr__',\n",
       " '__dict__',\n",
       " '__dir__',\n",
       " '__doc__',\n",
       " '__eq__',\n",
       " '__format__',\n",
       " '__ge__',\n",
       " '__get__',\n",
       " '__getattribute__',\n",
       " '__globals__',\n",
       " '__gt__',\n",
       " '__hash__',\n",
       " '__init__',\n",
       " '__kwdefaults__',\n",
       " '__le__',\n",
       " '__lt__',\n",
       " '__module__',\n",
       " '__name__',\n",
       " '__ne__',\n",
       " '__new__',\n",
       " '__qualname__',\n",
       " '__reduce__',\n",
       " '__reduce_ex__',\n",
       " '__repr__',\n",
       " '__setattr__',\n",
       " '__sizeof__',\n",
       " '__str__',\n",
       " '__subclasshook__']"
      ]
     },
     "execution_count": 77,
     "metadata": {},
     "output_type": "execute_result"
    }
   ],
   "source": [
    "dir(add)"
   ]
  },
  {
   "cell_type": "code",
   "execution_count": 79,
   "metadata": {
    "collapsed": false
   },
   "outputs": [
    {
     "name": "stdout",
     "output_type": "stream",
     "text": [
      "(10, <frame object at 0x000000000421E988>)\n",
      "(30, <frame object at 0x0000000002E2EDE8>)\n"
     ]
    }
   ],
   "source": [
    "import inspect\n",
    "\n",
    "def add(x:int,y:int) -> int :\n",
    "    s = inspect.currentframe()\n",
    "    return x+y,s\n",
    "   \n",
    "print(add(5,5))\n",
    "print(add(15,15))"
   ]
  },
  {
   "cell_type": "code",
   "execution_count": 81,
   "metadata": {
    "collapsed": false
   },
   "outputs": [
    {
     "name": "stdout",
     "output_type": "stream",
     "text": [
      "<frame object at 0x0000000004F1C9A8>\n",
      "Traceback(filename='<ipython-input-81-a4d22a151510>', lineno=5, function='add', code_context=['    return x+y,s\\n'], index=0)\n"
     ]
    }
   ],
   "source": [
    "import inspect\n",
    "\n",
    "def add(x:int,y:int) -> int :\n",
    "    s = inspect.currentframe()\n",
    "    return x+y,s\n",
    "   \n",
    "frame_info = add(5,5)\n",
    "print(frame_info[-1])\n",
    "print(inspect.getframeinfo(frame_info[-1]))"
   ]
  },
  {
   "cell_type": "code",
   "execution_count": 84,
   "metadata": {
    "collapsed": false
   },
   "outputs": [
    {
     "name": "stdout",
     "output_type": "stream",
     "text": [
      "<frame object at 0x0000000006684588>\n",
      "<code object add at 0x0000000004F069C0, file \"<ipython-input-84-a3e6c02c47dc>\", line 3>\n",
      "25\n",
      "5\n",
      "{'x': 5, 's': <frame object at 0x0000000002E2EDE8>, 'y': 5}\n",
      "None\n"
     ]
    }
   ],
   "source": [
    "import inspect\n",
    "\n",
    "def add(x:int,y:int) -> int :\n",
    "    s = inspect.currentframe()\n",
    "    return x+y,s\n",
    "   \n",
    "frame_info = add(5,5)\n",
    "print(frame_info[-1].f_back)\n",
    "print(frame_info[-1].f_code)\n",
    "print(frame_info[-1].f_lasti)\n",
    "print(frame_info[-1].f_lineno)\n",
    "print(frame_info[-1].f_locals)\n",
    "print(frame_info[-1].f_trace)\n"
   ]
  },
  {
   "cell_type": "code",
   "execution_count": 85,
   "metadata": {
    "collapsed": false
   },
   "outputs": [
    {
     "data": {
      "text/plain": [
       "['__class__',\n",
       " '__delattr__',\n",
       " '__dir__',\n",
       " '__doc__',\n",
       " '__eq__',\n",
       " '__format__',\n",
       " '__ge__',\n",
       " '__getattribute__',\n",
       " '__gt__',\n",
       " '__hash__',\n",
       " '__init__',\n",
       " '__le__',\n",
       " '__lt__',\n",
       " '__ne__',\n",
       " '__new__',\n",
       " '__reduce__',\n",
       " '__reduce_ex__',\n",
       " '__repr__',\n",
       " '__setattr__',\n",
       " '__sizeof__',\n",
       " '__str__',\n",
       " '__subclasshook__',\n",
       " 'co_argcount',\n",
       " 'co_cellvars',\n",
       " 'co_code',\n",
       " 'co_consts',\n",
       " 'co_filename',\n",
       " 'co_firstlineno',\n",
       " 'co_flags',\n",
       " 'co_freevars',\n",
       " 'co_kwonlyargcount',\n",
       " 'co_lnotab',\n",
       " 'co_name',\n",
       " 'co_names',\n",
       " 'co_nlocals',\n",
       " 'co_stacksize',\n",
       " 'co_varnames']"
      ]
     },
     "execution_count": 85,
     "metadata": {},
     "output_type": "execute_result"
    }
   ],
   "source": [
    "dir(add.__code__)"
   ]
  },
  {
   "cell_type": "code",
   "execution_count": 93,
   "metadata": {
    "collapsed": false
   },
   "outputs": [
    {
     "name": "stdout",
     "output_type": "stream",
     "text": [
      "2\n",
      "b'\\x87\\x00\\x00\\x87\\x01\\x00f\\x02\\x00d\\x01\\x00d\\x02\\x00\\x86\\x00\\x00}\\x02\\x00|\\x02\\x00S'\n",
      "(None, <code object inner at 0x0000000004EFBDB0, file \"<ipython-input-93-53f43fdc47b1>\", line 2>, 'add.<locals>.inner')\n",
      "<ipython-input-93-53f43fdc47b1>\n",
      "1\n",
      "3\n",
      "()\n",
      "('x', 'y')\n",
      "b'\\x00\\x01\\x15\\x02'\n",
      "add\n",
      "()\n",
      "3\n",
      "3\n",
      "('x', 'y', 'inner')\n"
     ]
    }
   ],
   "source": [
    "def add(x:int,y=10) -> int :\n",
    "    def inner() :\n",
    "        return x+y\n",
    "    return inner\n",
    "inner = add(5,5)\n",
    "print(add.__code__.co_argcount)\n",
    "print(add.__code__.co_code)\n",
    "print(add.__code__.co_consts)\n",
    "print(add.__code__.co_filename)\n",
    "print(add.__code__.co_firstlineno)\n",
    "print(add.__code__.co_flags)\n",
    "print(inner.__code__.co_cellvars)\n",
    "print(inner.__code__.co_freevars)\n",
    "print(add.__code__.co_lnotab)\n",
    "print(add.__code__.co_name)\n",
    "print(add.__code__.co_names)\n",
    "print(add.__code__.co_nlocals)\n",
    "print(add.__code__.co_stacksize)\n",
    "print(add.__code__.co_varnames)"
   ]
  },
  {
   "cell_type": "code",
   "execution_count": 94,
   "metadata": {
    "collapsed": false
   },
   "outputs": [
    {
     "name": "stdout",
     "output_type": "stream",
     "text": [
      "Counter({'t': 2, 'a': 2, 'e': 1, 'd': 1, 'k': 1, 'c': 1})\n",
      "Counter({1: 2, 2: 2})\n",
      "Counter({(1, 2): 1, (2, 2): 1})\n",
      "Counter({1: 1, 2: 1, 3: 1})\n"
     ]
    }
   ],
   "source": [
    "import collections\n",
    "\n",
    "print(collections.Counter(\"attacked\"))\n",
    "\n",
    "print(collections.Counter({1:2,2:2}))\n",
    "\n",
    "print(collections.Counter({1:2,2:2}.items()))\n",
    "\n",
    "print(collections.Counter([1,2,3]))\n",
    "\n"
   ]
  },
  {
   "cell_type": "code",
   "execution_count": 96,
   "metadata": {
    "collapsed": false
   },
   "outputs": [
    {
     "name": "stdout",
     "output_type": "stream",
     "text": [
      "s  :  Counter({'e': 2, 'a': 2, 'b': 2, 'c': 1, 'd': 1})\n",
      "s2 : Counter({'f': 1, 'b': 1, 'e': 1, 'd': 1, 'a': 1, 'c': 1})\n",
      " s + s2 : Counter({'b': 3, 'e': 3, 'a': 3, 'd': 2, 'c': 2, 'f': 1})\n",
      " s - s2 : Counter({'a': 1, 'e': 1, 'b': 1})\n",
      " s2 - s : Counter({'f': 1})\n"
     ]
    }
   ],
   "source": [
    "from collections import Counter\n",
    "\n",
    "s = Counter(\"abceabde\")\n",
    "s2 = Counter(\"defabc\")\n",
    "print(\"s  : \",s)\n",
    "print(\"s2 :\",s2)\n",
    "\n",
    "# counter 더하기 \n",
    "sadd = s+s2\n",
    "print(\" s + s2 :\",sadd)\n",
    "\n",
    "#counter  빼기\n",
    "ssub = s - s2\n",
    "print(\" s - s2 :\",ssub)\n",
    "\n",
    "ssub2 = s2 - s\n",
    "print(\" s2 - s :\",ssub2)\n"
   ]
  },
  {
   "cell_type": "code",
   "execution_count": 97,
   "metadata": {
    "collapsed": false
   },
   "outputs": [
    {
     "name": "stdout",
     "output_type": "stream",
     "text": [
      "s  :  Counter({'e': 2, 'a': 2, 'b': 2, 'c': 1, 'd': 1})\n",
      "s2 : Counter({'f': 1, 'b': 1, 'e': 1, 'd': 1, 'a': 1, 'c': 1})\n",
      " s & s2 : Counter({'b': 1, 'a': 1, 'e': 1, 'd': 1, 'c': 1})\n",
      " s | s2 : Counter({'b': 2, 'e': 2, 'a': 2, 'f': 1, 'd': 1, 'c': 1})\n"
     ]
    }
   ],
   "source": [
    "from collections import Counter\n",
    "\n",
    "s = Counter(\"abceabde\")\n",
    "s2 = Counter(\"defabc\")\n",
    "print( \"s  : \",s)\n",
    "print(\"s2 :\",s2)\n",
    "\n",
    "# 교집합\n",
    "sadd = s &s2\n",
    "print( \" s & s2 :\",sadd)\n",
    "# 합집합\n",
    "ssub = s | s2\n",
    "print(\" s | s2 :\",ssub)\n"
   ]
  },
  {
   "cell_type": "code",
   "execution_count": 99,
   "metadata": {
    "collapsed": false
   },
   "outputs": [
    {
     "name": "stdout",
     "output_type": "stream",
     "text": [
      "a  :  2\n",
      "b  :  2\n",
      "c  :  1\n",
      "e  :  2\n",
      "d  :  1\n",
      "f  :  0\n",
      " s element  ['e', 'e', 'a', 'a', 'c', 'd', 'b', 'b']\n"
     ]
    }
   ],
   "source": [
    "from collections import Counter\n",
    "\n",
    "s = Counter(\"abceabde\")\n",
    "\n",
    "#접근\n",
    "\n",
    "for i in \"abcedf\" :\n",
    "    print (i,\" : \", s[i])\n",
    "print(\" s element \", [ x for x in s.elements()])\n"
   ]
  },
  {
   "cell_type": "code",
   "execution_count": null,
   "metadata": {
    "collapsed": true
   },
   "outputs": [],
   "source": []
  }
 ],
 "metadata": {
  "anaconda-cloud": {},
  "kernelspec": {
   "display_name": "Python [conda root]",
   "language": "python",
   "name": "conda-root-py"
  },
  "language_info": {
   "codemirror_mode": {
    "name": "ipython",
    "version": 3
   },
   "file_extension": ".py",
   "mimetype": "text/x-python",
   "name": "python",
   "nbconvert_exporter": "python",
   "pygments_lexer": "ipython3",
   "version": "3.5.2"
  }
 },
 "nbformat": 4,
 "nbformat_minor": 1
}
