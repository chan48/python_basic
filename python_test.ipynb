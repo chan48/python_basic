{
 "cells": [
  {
   "cell_type": "markdown",
   "metadata": {},
   "source": [
    "한글찍기\n"
   ]
  },
  {
   "cell_type": "code",
   "execution_count": null,
   "metadata": {
    "collapsed": false
   },
   "outputs": [],
   "source": [
    "print(\"Hello World !!!\")"
   ]
  },
  {
   "cell_type": "code",
   "execution_count": null,
   "metadata": {
    "collapsed": false
   },
   "outputs": [],
   "source": [
    "print(\"한글\")"
   ]
  },
  {
   "cell_type": "code",
   "execution_count": 1,
   "metadata": {
    "collapsed": false
   },
   "outputs": [
    {
     "name": "stdout",
     "output_type": "stream",
     "text": [
      "Writing flask_ts.py\n"
     ]
    }
   ],
   "source": [
    "%%writefile flask_ts.py\n",
    "from flask  import Flask\n",
    "\n",
    "app = Flask('__name__')\n",
    "\n",
    "@app.route('/')\n",
    "def hello() :\n",
    "    return \" Hello Flask Jupyter Notebook\"\n",
    "    \n",
    "if  __name__ == '__main__' :\n",
    "    app.run()"
   ]
  },
  {
   "cell_type": "code",
   "execution_count": null,
   "metadata": {
    "collapsed": false
   },
   "outputs": [],
   "source": [
    "!pip install tensorflow --upgrade"
   ]
  },
  {
   "cell_type": "code",
   "execution_count": null,
   "metadata": {
    "collapsed": false
   },
   "outputs": [],
   "source": [
    "dir(int)"
   ]
  },
  {
   "cell_type": "code",
   "execution_count": null,
   "metadata": {
    "collapsed": false
   },
   "outputs": [],
   "source": [
    "(1).__add__(2)"
   ]
  },
  {
   "cell_type": "code",
   "execution_count": null,
   "metadata": {
    "collapsed": false
   },
   "outputs": [],
   "source": [
    "print(issubclass(bool, int)) \n",
    "print(isinstance(True,int))\n",
    "print(issubclass(int,float))\n",
    "print(bool.__bases__)"
   ]
  },
  {
   "cell_type": "code",
   "execution_count": null,
   "metadata": {
    "collapsed": false
   },
   "outputs": [],
   "source": [
    "s = \"abc\"\n",
    "print(s.__len__())\n",
    "print(len(s))\n",
    "print(s[0])\n",
    "print(s.__getitem__(0))\n",
    "print(s[0:2])\n",
    "print(s[slice(0,2)])\n",
    "print(s.__getitem__(slice(0,2)))"
   ]
  },
  {
   "cell_type": "code",
   "execution_count": null,
   "metadata": {
    "collapsed": false
   },
   "outputs": [],
   "source": [
    "(a,b,c) = (10,20,30) \n",
    "print(a)\n",
    "\n",
    "(aa) = (10,20,30)\n",
    "print(aa)\n",
    "\n",
    "print(globals())"
   ]
  },
  {
   "cell_type": "code",
   "execution_count": null,
   "metadata": {
    "collapsed": false
   },
   "outputs": [],
   "source": [
    "d = { 'a': 1}\n",
    "print(d.__getitem__('a'))\n",
    "print(d.get('a'))"
   ]
  },
  {
   "cell_type": "code",
   "execution_count": null,
   "metadata": {
    "collapsed": false
   },
   "outputs": [],
   "source": [
    "print(dir(set))"
   ]
  },
  {
   "cell_type": "code",
   "execution_count": null,
   "metadata": {
    "collapsed": false
   },
   "outputs": [],
   "source": [
    "a=15\n",
    "print(a.__truediv__(4))\n",
    "print(a/4)\n",
    "print(a.__floordiv__(4))\n",
    "print(a//4)\n",
    "print(a.__pow__(2))\n",
    "print(a**2)\n",
    "print(divmod(a,4))\n",
    "print(a.__divmod__(4))"
   ]
  },
  {
   "cell_type": "code",
   "execution_count": null,
   "metadata": {
    "collapsed": false
   },
   "outputs": [],
   "source": [
    "print(int)\n",
    "print(bin)\n",
    "print(oct)\n",
    "print(hex)\n",
    "print(float)\n",
    "print(complex)\n",
    "print(list)\n",
    "print(set)\n",
    "print(tuple)\n",
    "print(dict)"
   ]
  },
  {
   "cell_type": "code",
   "execution_count": null,
   "metadata": {
    "collapsed": false
   },
   "outputs": [],
   "source": [
    "d = {'a' : 1}\n",
    "l = list(d.keys())\n",
    "print(l)\n",
    "l1 = list(d.values())\n",
    "print(l1)"
   ]
  },
  {
   "cell_type": "code",
   "execution_count": null,
   "metadata": {
    "collapsed": false
   },
   "outputs": [],
   "source": [
    "lt = [(1,2)]\n",
    "d2 = dict(lt)\n",
    "print(d2)"
   ]
  },
  {
   "cell_type": "code",
   "execution_count": null,
   "metadata": {
    "collapsed": false
   },
   "outputs": [],
   "source": [
    "z = zip([1,2,3],[4,5,6])\n",
    "print(list(z))"
   ]
  },
  {
   "cell_type": "code",
   "execution_count": null,
   "metadata": {
    "collapsed": false
   },
   "outputs": [],
   "source": [
    "e = enumerate([1,2,3])\n",
    "print(list(e))"
   ]
  },
  {
   "cell_type": "code",
   "execution_count": null,
   "metadata": {
    "collapsed": false
   },
   "outputs": [],
   "source": [
    "import math\n",
    "def circle(r) :\n",
    "    return math.pi * r**2\n",
    "\n",
    "print(circle(5))"
   ]
  },
  {
   "cell_type": "code",
   "execution_count": null,
   "metadata": {
    "collapsed": false
   },
   "outputs": [],
   "source": [
    "True.__and__(True)"
   ]
  },
  {
   "cell_type": "code",
   "execution_count": null,
   "metadata": {
    "collapsed": false
   },
   "outputs": [],
   "source": [
    "True & True"
   ]
  },
  {
   "cell_type": "code",
   "execution_count": null,
   "metadata": {
    "collapsed": false
   },
   "outputs": [],
   "source": [
    "(2) and (3)"
   ]
  },
  {
   "cell_type": "code",
   "execution_count": null,
   "metadata": {
    "collapsed": false
   },
   "outputs": [],
   "source": [
    "(2) or (3)"
   ]
  },
  {
   "cell_type": "code",
   "execution_count": null,
   "metadata": {
    "collapsed": false
   },
   "outputs": [],
   "source": [
    "'' and (3)"
   ]
  },
  {
   "cell_type": "code",
   "execution_count": null,
   "metadata": {
    "collapsed": false
   },
   "outputs": [],
   "source": [
    "'' or (3)"
   ]
  },
  {
   "cell_type": "code",
   "execution_count": null,
   "metadata": {
    "collapsed": false
   },
   "outputs": [],
   "source": [
    "my = [ 1,2,3]\n",
    "print(my.__contains__(3))\n",
    "print(my.__contains__(4))\n",
    "print(not my.__contains__(4))\n",
    "\n",
    "d = {'a': 1}\n",
    "print(d.__contains__('a'))\n",
    "print(list(d.keys()).__contains__('a'))\n",
    "print(list(d.values()).__contains__(1))"
   ]
  },
  {
   "cell_type": "code",
   "execution_count": null,
   "metadata": {
    "collapsed": false
   },
   "outputs": [],
   "source": [
    "a = 10\n",
    "print(repr(a))\n",
    "print(str(a))\n",
    "print(id(a))\n"
   ]
  },
  {
   "cell_type": "code",
   "execution_count": null,
   "metadata": {
    "collapsed": false
   },
   "outputs": [],
   "source": [
    "print((10,20)[False])\n",
    "print({True:20, False:10}[False])\n",
    "print(20 if True else 10)"
   ]
  },
  {
   "cell_type": "code",
   "execution_count": null,
   "metadata": {
    "collapsed": false
   },
   "outputs": [],
   "source": [
    "a = input('a')\n",
    "b = input('b')\n",
    "c = abs(int(a)) + abs(int(b))\n",
    "print(c)"
   ]
  },
  {
   "cell_type": "code",
   "execution_count": null,
   "metadata": {
    "collapsed": false
   },
   "outputs": [],
   "source": [
    "a = input('a')\n",
    "b = a.split()\n",
    "\n",
    "c = abs(int(b[0])) + abs(int(b[1]))\n",
    "print(c)"
   ]
  },
  {
   "cell_type": "code",
   "execution_count": null,
   "metadata": {
    "collapsed": false
   },
   "outputs": [],
   "source": [
    "a = input('a')\n",
    "b = a.split()\n",
    "#삼항연산자\n",
    "def abs_r(r) :\n",
    "    return r if r >0 else -1 *r\n",
    "c = abs_r(int(b[0])) + abs_r(int(b[1]))\n",
    "print(c)"
   ]
  },
  {
   "cell_type": "code",
   "execution_count": null,
   "metadata": {
    "collapsed": false
   },
   "outputs": [],
   "source": [
    "a= 10\n",
    "\n",
    "if 0< a <3 :\n",
    "    print('a < 3')\n",
    "elif a == 3 :\n",
    "    print(\" a == 3\")\n",
    "else :\n",
    "    print(\" a > 3\")"
   ]
  },
  {
   "cell_type": "code",
   "execution_count": null,
   "metadata": {
    "collapsed": false
   },
   "outputs": [],
   "source": [
    "a = 88\n",
    "if 90 <=  a  <= 100 :\n",
    "    print('A')\n",
    "elif 80 <=  a  <= 89 :\n",
    "    print(\" B\")\n",
    "elif 70 <=  a  <= 79 :\n",
    "    print(\" C\")\n",
    "elif 60 <=  a  <= 69 :\n",
    "    print(\" D\")\n",
    "else :\n",
    "    print(\" F\")"
   ]
  },
  {
   "cell_type": "code",
   "execution_count": null,
   "metadata": {
    "collapsed": false
   },
   "outputs": [],
   "source": [
    "c = 100\n",
    "a = c//10 * 10\n",
    "d = {100: 'A',90 : 'A', 80 : 'B', 70 : 'C', 60 : 'D'}\n",
    "print(d.get(a,'F'))"
   ]
  },
  {
   "cell_type": "code",
   "execution_count": null,
   "metadata": {
    "collapsed": false
   },
   "outputs": [],
   "source": [
    "print(int.__pos__(-1))\n",
    "print(int.__neg__(-1))"
   ]
  },
  {
   "cell_type": "code",
   "execution_count": null,
   "metadata": {
    "collapsed": false
   },
   "outputs": [],
   "source": [
    "a=1\n",
    "print(a.__neg__().__pos__())\n",
    "-+a"
   ]
  },
  {
   "cell_type": "raw",
   "metadata": {},
   "source": [
    "a = 10\n",
    "print(globals()['a'])\n",
    "for a in [1,2,3] :\n",
    "    print(a)\n",
    "print(a)\n",
    "print(globals()['a'])"
   ]
  },
  {
   "cell_type": "code",
   "execution_count": null,
   "metadata": {
    "collapsed": false
   },
   "outputs": [],
   "source": [
    "d= {1:2}\n",
    "list(d.keys())"
   ]
  },
  {
   "cell_type": "code",
   "execution_count": null,
   "metadata": {
    "collapsed": false
   },
   "outputs": [],
   "source": [
    "dir(range)"
   ]
  },
  {
   "cell_type": "code",
   "execution_count": null,
   "metadata": {
    "collapsed": false
   },
   "outputs": [],
   "source": [
    "n = range(0,10)\n",
    "print(n.start)\n",
    "print(n.stop)\n",
    "print(n.step)\n",
    "print(n.index(3))\n",
    "print(type(n))"
   ]
  },
  {
   "cell_type": "code",
   "execution_count": null,
   "metadata": {
    "collapsed": false
   },
   "outputs": [],
   "source": [
    "a = iter(n)\n",
    "print(next(a))"
   ]
  },
  {
   "cell_type": "code",
   "execution_count": null,
   "metadata": {
    "collapsed": false
   },
   "outputs": [],
   "source": [
    "n= 10\n",
    "for a in range(1,n+1) :\n",
    "    if n % a == 0 :\n",
    "        print(a)"
   ]
  },
  {
   "cell_type": "code",
   "execution_count": null,
   "metadata": {
    "collapsed": false
   },
   "outputs": [],
   "source": [
    "data = [{'name': \"홍길동\",'age': '30'}, \n",
    "       {'name': \"홍길수\",'age': '30'}, \n",
    "        {'name': \"홍길서\",'age': '30'},\n",
    "       ]\n",
    "for dt in data :\n",
    "    print(\"이름: %(name)s 나이 : %(age)s \" % dt)"
   ]
  },
  {
   "cell_type": "code",
   "execution_count": null,
   "metadata": {
    "collapsed": false
   },
   "outputs": [],
   "source": [
    "a = [ n for n in range(1,m+1) if m %n == 0]\n",
    "print(a)"
   ]
  },
  {
   "cell_type": "code",
   "execution_count": null,
   "metadata": {
    "collapsed": false
   },
   "outputs": [],
   "source": [
    "def fn() :\n",
    "    print(\"func call\")\n",
    "    \n",
    "fn.__call__()"
   ]
  },
  {
   "cell_type": "code",
   "execution_count": null,
   "metadata": {
    "collapsed": false
   },
   "outputs": [],
   "source": [
    "def mysum(x:int, y:int) -> int :\n",
    "    var_tp = mysum.__annotations__\n",
    "    if type(x) == var_tp['x'] :\n",
    "        print('int')\n",
    "    else :\n",
    "        raise Exception(\" not int\")\n",
    "        \n",
    "    if type(y) == var_tp['y'] :\n",
    "        print('int')\n",
    "    else :\n",
    "        raise Exception(\" not int\") \n",
    "        \n",
    "    result = x+y \n",
    "    if type(result) == var_tp['return'] :\n",
    "        print(\"int\")\n",
    "    return result\n",
    "\n",
    "print(mysum(30,20))\n",
    "print(mysum(30.1,10))"
   ]
  },
  {
   "cell_type": "code",
   "execution_count": null,
   "metadata": {
    "collapsed": false
   },
   "outputs": [],
   "source": [
    "print(mysum.__annotations__)"
   ]
  },
  {
   "cell_type": "code",
   "execution_count": null,
   "metadata": {
    "collapsed": false
   },
   "outputs": [],
   "source": [
    "def yak(n) :\n",
    "    return [a for a in range(1,n+1) if n % a == 0 ]\n",
    "print(yak(12))"
   ]
  },
  {
   "cell_type": "code",
   "execution_count": null,
   "metadata": {
    "collapsed": false
   },
   "outputs": [],
   "source": [
    "def minimum(*args) :\n",
    "    a= []\n",
    "    for x in args : \n",
    "        a.append(x)\n",
    "    a.sort()\n",
    "    return a.pop(0)\n",
    "print(minimum(4,5,6,1))"
   ]
  },
  {
   "cell_type": "code",
   "execution_count": null,
   "metadata": {
    "collapsed": false
   },
   "outputs": [],
   "source": [
    "def maximum(*args) :\n",
    "    a= []\n",
    "    for x in args : \n",
    "        a.append(x)\n",
    "    a.sort()\n",
    "    return a.pop()\n",
    "print(maximum(4,5,6,1))"
   ]
  },
  {
   "cell_type": "code",
   "execution_count": null,
   "metadata": {
    "collapsed": false
   },
   "outputs": [],
   "source": [
    "g = 10\n",
    "def fn() :\n",
    "    g= 100\n",
    "    print(locals()['g'])\n",
    "    \n",
    "fn()\n",
    "print(globals()['g'])"
   ]
  },
  {
   "cell_type": "code",
   "execution_count": null,
   "metadata": {
    "collapsed": false
   },
   "outputs": [],
   "source": [
    "l= []\n",
    "i =0\n",
    "def in_pro() :\n",
    "    global i\n",
    "    product_name = input(\" 제품명\")\n",
    "    product_count = input(\" 수량 \")\n",
    "    date = input('날짜')\n",
    "    a = product_name, product_count, date\n",
    "    l.append(a)\n",
    "    i+=1\n",
    "    \n",
    "def product_print(l,i) :\n",
    "    head = 0\n",
    "    for x in range(0,i) : \n",
    "        if head == 0 :\n",
    "            print('-'* 48)\n",
    "            print(\" %12s %12s %16s \" % (\"제품명\",\"수량\",\"날짜  \"))\n",
    "            print('-' * 48)\n",
    "            head = 1\n",
    "        print(\" %12s %12s %16s \" % (l[x][0],l[x][1],l[x][2]))\n",
    "        print('-' * 48)\n",
    "\n",
    "while True : \n",
    "    in_pro()\n",
    "    a = input(\" 계속하겠습니까\")\n",
    "    product_print(l,i)\n",
    "    if a == 'No' :\n",
    "        break\n",
    "        "
   ]
  },
  {
   "cell_type": "code",
   "execution_count": null,
   "metadata": {
    "collapsed": false
   },
   "outputs": [],
   "source": [
    "def fn1(a=10,b=20) :\n",
    "    print(locals())\n",
    "    \n",
    "print(fn1.__defaults__)\n",
    "fn1()"
   ]
  },
  {
   "cell_type": "code",
   "execution_count": null,
   "metadata": {
    "collapsed": false
   },
   "outputs": [],
   "source": [
    "help(print)"
   ]
  },
  {
   "cell_type": "code",
   "execution_count": null,
   "metadata": {
    "collapsed": false
   },
   "outputs": [],
   "source": [
    "def fn2(a,b,*args) :\n",
    "    print(locals())\n",
    "    \n",
    "fn2(1,2,3,4)"
   ]
  },
  {
   "cell_type": "code",
   "execution_count": null,
   "metadata": {
    "collapsed": false
   },
   "outputs": [],
   "source": [
    "def fn3(*args, **kwargs) :\n",
    "    print(locals())\n",
    "    \n",
    "fn3(10,20,a=1,b=2)"
   ]
  },
  {
   "cell_type": "code",
   "execution_count": null,
   "metadata": {
    "collapsed": false
   },
   "outputs": [],
   "source": [
    "a, *b, c = 1,2,3,4\n",
    "print(a)\n",
    "print(b)\n",
    "print(c)"
   ]
  },
  {
   "cell_type": "code",
   "execution_count": null,
   "metadata": {
    "collapsed": false
   },
   "outputs": [],
   "source": [
    "a, *b = 1, {1:2,2:2},1\n",
    "print(a)\n",
    "print(b)"
   ]
  },
  {
   "cell_type": "code",
   "execution_count": null,
   "metadata": {
    "collapsed": false
   },
   "outputs": [],
   "source": [
    "%%writefile mymodule.py\n",
    "def hap(a,b) :\n",
    "    return a+b\n",
    "\n",
    "def gop(a,b) :\n",
    "    return a*b\n",
    "\n",
    "print(\"my module...\")"
   ]
  },
  {
   "cell_type": "code",
   "execution_count": null,
   "metadata": {
    "collapsed": false
   },
   "outputs": [],
   "source": [
    "import mymodule as my\n",
    "import sys\n",
    "\n",
    "#sys.path.append(r\"C:\\Users\\Administrator\\python_test\")\n",
    "#sys.path.pop()\n",
    "#print(sys.path)\n",
    "print(\"Hello\")\n",
    "print(my.__name__)\n",
    "print(__name__)\n",
    "print(my.hap(5,5))\n",
    "print(my.gop(5,5))"
   ]
  },
  {
   "cell_type": "code",
   "execution_count": null,
   "metadata": {
    "collapsed": false
   },
   "outputs": [],
   "source": [
    "!pwd"
   ]
  },
  {
   "cell_type": "code",
   "execution_count": null,
   "metadata": {
    "collapsed": false
   },
   "outputs": [],
   "source": [
    "!cwd"
   ]
  },
  {
   "cell_type": "code",
   "execution_count": null,
   "metadata": {
    "collapsed": false
   },
   "outputs": [],
   "source": [
    "!ls"
   ]
  },
  {
   "cell_type": "code",
   "execution_count": null,
   "metadata": {
    "collapsed": false
   },
   "outputs": [],
   "source": [
    "!cd"
   ]
  },
  {
   "cell_type": "code",
   "execution_count": null,
   "metadata": {
    "collapsed": true
   },
   "outputs": [],
   "source": [
    "import py_compile"
   ]
  },
  {
   "cell_type": "code",
   "execution_count": null,
   "metadata": {
    "collapsed": false
   },
   "outputs": [],
   "source": [
    "py_compile.compile('a.py')"
   ]
  },
  {
   "cell_type": "code",
   "execution_count": null,
   "metadata": {
    "collapsed": false
   },
   "outputs": [],
   "source": [
    "%%writefile a.py\n",
    "def add(x,y) :"
   ]
  },
  {
   "cell_type": "code",
   "execution_count": null,
   "metadata": {
    "collapsed": false
   },
   "outputs": [],
   "source": [
    "a=1\n",
    "b = 2\n",
    "def add(a,b) :\n",
    "    return a+ b\n",
    "print(a+b)\n",
    "a.__add__(b)\n",
    "import inspect\n",
    "\n",
    "print(inspect.getsource(add))"
   ]
  },
  {
   "cell_type": "code",
   "execution_count": null,
   "metadata": {
    "collapsed": false
   },
   "outputs": [],
   "source": []
  },
  {
   "cell_type": "code",
   "execution_count": null,
   "metadata": {
    "collapsed": false
   },
   "outputs": [],
   "source": [
    "class Test:\n",
    "    a = 20\n",
    "    b = 30\n",
    "    def __init__(self) :\n",
    "        pass\n",
    "    \n",
    "t = Test()\n",
    "t.a = 100\n",
    "t.b = 200\n",
    "print(Test.__dict__)\n",
    "print(Test.a)\n",
    "print(t.__dict__)\n",
    "print(t.a)\n",
    "print(t.__init__.__self__)\n",
    "print(Test.__init__.__self__)\n"
   ]
  },
  {
   "cell_type": "code",
   "execution_count": null,
   "metadata": {
    "collapsed": false
   },
   "outputs": [],
   "source": [
    "a= 10\n",
    "print(id(a))\n",
    "b = 10\n",
    "print(id(b))\n",
    "print(id(10))\n",
    "del(a)\n",
    "del(b)\n",
    "a = 10\n",
    "print(id(a))"
   ]
  },
  {
   "cell_type": "code",
   "execution_count": 6,
   "metadata": {
    "collapsed": false
   },
   "outputs": [
    {
     "name": "stdout",
     "output_type": "stream",
     "text": [
      "alabaster (0.7.9)\n",
      "anaconda-client (1.6.0)\n",
      "anaconda-navigator (1.4.3)\n",
      "astroid (1.4.9)\n",
      "astropy (1.3)\n",
      "Babel (2.3.4)\n",
      "backports.shutil-get-terminal-size (1.0.0)\n",
      "beautifulsoup4 (4.5.3)\n",
      "bitarray (0.8.1)\n",
      "blaze (0.10.1)\n",
      "bokeh (0.12.4)\n",
      "boto (2.45.0)\n",
      "Bottleneck (1.2.0)\n",
      "bs4 (0.0.1)\n",
      "cffi (1.9.1)\n",
      "chardet (2.3.0)\n",
      "chest (0.2.3)\n",
      "click (6.7)\n",
      "cloudpickle (0.2.2)\n",
      "clyent (1.2.2)\n",
      "colorama (0.3.7)\n",
      "comtypes (1.1.2)\n",
      "conda (4.3.8)\n",
      "configobj (5.0.6)\n",
      "contextlib2 (0.5.4)\n",
      "cryptography (1.7.1)\n",
      "cycler (0.10.0)\n",
      "Cython (0.25.2)\n",
      "cytoolz (0.8.2)\n",
      "dask (0.13.0)\n",
      "datashape (0.5.4)\n",
      "decorator (4.0.11)\n",
      "dill (0.2.5)\n",
      "docutils (0.13.1)\n",
      "et-xmlfile (1.0.1)\n",
      "fastcache (1.0.2)\n",
      "Flask (0.12)\n",
      "Flask-Cors (3.0.2)\n",
      "gevent (1.2.1)\n",
      "greenlet (0.4.11)\n",
      "h5py (2.6.0)\n",
      "HeapDict (1.0.0)\n",
      "idna (2.2)\n",
      "imagesize (0.7.1)\n",
      "ipykernel (4.5.2)\n",
      "ipython (5.1.0)\n",
      "ipython-genutils (0.1.0)\n",
      "ipywidgets (5.2.2)\n",
      "isort (4.2.5)\n",
      "itsdangerous (0.24)\n",
      "jdcal (1.3)\n",
      "jedi (0.9.0)\n",
      "Jinja2 (2.9.5)\n",
      "jsonschema (2.5.1)\n",
      "jupyter (1.0.0)\n",
      "jupyter-client (4.4.0)\n",
      "jupyter-console (5.0.0)\n",
      "jupyter-core (4.2.1)\n",
      "lazy-object-proxy (1.2.2)\n",
      "llvmlite (0.15.0)\n",
      "locket (0.2.0)\n",
      "lxml (3.7.2)\n",
      "MarkupSafe (0.23)\n",
      "matplotlib (2.0.0)\n",
      "menuinst (1.4.4)\n",
      "mistune (0.7.3)\n",
      "mpmath (0.19)\n",
      "multipledispatch (0.4.9)\n",
      "nbconvert (4.2.0)\n",
      "nbformat (4.2.0)\n",
      "networkx (1.11)\n",
      "nltk (3.2.2)\n",
      "nose (1.3.7)\n",
      "notebook (4.3.1)\n",
      "numba (0.30.1)\n",
      "numexpr (2.6.1)\n",
      "numpy (1.11.3)\n",
      "numpydoc (0.6.0)\n",
      "odo (0.5.0)\n",
      "openpyxl (2.4.1)\n",
      "pandas (0.19.2)\n",
      "partd (0.3.7)\n",
      "path.py (0.0.0)\n",
      "pathlib2 (2.2.0)\n",
      "patsy (0.4.1)\n",
      "pep8 (1.7.0)\n",
      "pickleshare (0.7.4)\n",
      "Pillow (4.0.0)\n",
      "pip (9.0.1)\n",
      "ply (3.9)\n",
      "prompt-toolkit (1.0.9)\n",
      "psutil (5.0.1)\n",
      "py (1.4.32)\n",
      "pyasn1 (0.1.9)\n",
      "pycosat (0.6.1)\n",
      "pycparser (2.17)\n",
      "pycrypto (2.6.1)\n",
      "pycurl (7.43.0)\n",
      "pyflakes (1.5.0)\n",
      "Pygments (2.1.3)\n",
      "pylint (1.6.4)\n",
      "pyOpenSSL (16.2.0)\n",
      "pyparsing (2.1.4)\n",
      "pytest (3.0.5)\n",
      "python-dateutil (2.6.0)\n",
      "pytz (2016.10)\n",
      "pywin32 (220)\n",
      "PyYAML (3.12)\n",
      "pyzmq (16.0.2)\n",
      "QtAwesome (0.4.3)\n",
      "qtconsole (4.2.1)\n",
      "QtPy (1.2.1)\n",
      "requests (2.12.4)\n",
      "rope-py3k (0.9.4.post1)\n",
      "scikit-image (0.12.3)\n",
      "scikit-learn (0.18.1)\n",
      "scipy (0.18.1)\n",
      "seaborn (0.7.1)\n",
      "setuptools (27.2.0)\n",
      "simplegeneric (0.8.1)\n",
      "singledispatch (3.4.0.3)\n",
      "six (1.10.0)\n",
      "snowballstemmer (1.2.1)\n",
      "sockjs-tornado (1.0.3)\n",
      "sphinx (1.5.1)\n",
      "spyder (3.1.2)\n",
      "SQLAlchemy (1.1.5)\n",
      "statsmodels (0.6.1)\n",
      "sympy (1.0)\n",
      "tables (3.2.2)\n",
      "toolz (0.8.2)\n",
      "tornado (4.4.2)\n",
      "traitlets (4.3.1)\n",
      "unicodecsv (0.14.1)\n",
      "virtualenv (15.1.0)\n",
      "wcwidth (0.1.7)\n",
      "Werkzeug (0.11.15)\n",
      "wheel (0.29.0)\n",
      "widgetsnbextension (1.2.6)\n",
      "win-unicode-console (0.5)\n",
      "wrapt (1.10.8)\n",
      "xlrd (1.0.0)\n",
      "XlsxWriter (0.9.6)\n",
      "xlwings (0.10.2)\n",
      "xlwt (1.2.0)\n"
     ]
    },
    {
     "name": "stderr",
     "output_type": "stream",
     "text": [
      "DEPRECATION: The default format will switch to columns in the future. You can use --format=(legacy|columns) (or define a format=(legacy|columns) in your pip.conf under the [list] section) to disable this warning.\n"
     ]
    }
   ],
   "source": [
    "!pip list"
   ]
  },
  {
   "cell_type": "code",
   "execution_count": 22,
   "metadata": {
    "collapsed": false
   },
   "outputs": [
    {
     "name": "stdout",
     "output_type": "stream",
     "text": [
      "Collecting mysql-connector\n",
      "  Downloading mysql-connector-2.1.4.zip (355kB)\n",
      "Building wheels for collected packages: mysql-connector\n",
      "  Running setup.py bdist_wheel for mysql-connector: started\n",
      "  Running setup.py bdist_wheel for mysql-connector: finished with status 'done'\n",
      "  Stored in directory: C:\\Users\\Administrator\\AppData\\Local\\pip\\Cache\\wheels\\bc\\4c\\f0\\522b6d8ef8c6256057bbdb60d7ce37af99dc09d4d1414bf62d\n",
      "Successfully built mysql-connector\n",
      "Installing collected packages: mysql-connector\n",
      "Successfully installed mysql-connector-2.1.4\n"
     ]
    }
   ],
   "source": [
    "!pip install mysql-connector --upgrade"
   ]
  },
  {
   "cell_type": "code",
   "execution_count": 25,
   "metadata": {
    "collapsed": false
   },
   "outputs": [],
   "source": [
    "import mysql.connector as mysql\n"
   ]
  },
  {
   "cell_type": "code",
   "execution_count": 26,
   "metadata": {
    "collapsed": true
   },
   "outputs": [],
   "source": [
    "from bs4 import BeautifulSoup"
   ]
  },
  {
   "cell_type": "code",
   "execution_count": 27,
   "metadata": {
    "collapsed": false
   },
   "outputs": [
    {
     "name": "stdout",
     "output_type": "stream",
     "text": [
      "alabaster (0.7.9)\n",
      "anaconda-client (1.6.0)\n",
      "anaconda-navigator (1.4.3)\n",
      "astroid (1.4.9)\n",
      "astropy (1.3)\n",
      "Babel (2.3.4)\n",
      "backports.shutil-get-terminal-size (1.0.0)\n",
      "beautifulsoup4 (4.5.3)\n",
      "bitarray (0.8.1)\n",
      "blaze (0.10.1)\n",
      "bokeh (0.12.4)\n",
      "boto (2.45.0)\n",
      "Bottleneck (1.2.0)\n",
      "bs4 (0.0.1)\n",
      "cffi (1.9.1)\n",
      "chardet (2.3.0)\n",
      "chest (0.2.3)\n",
      "click (6.7)\n",
      "cloudpickle (0.2.2)\n",
      "clyent (1.2.2)\n",
      "colorama (0.3.7)\n",
      "comtypes (1.1.2)\n",
      "conda (4.3.8)\n",
      "configobj (5.0.6)\n",
      "contextlib2 (0.5.4)\n",
      "cryptography (1.7.1)\n",
      "cycler (0.10.0)\n",
      "Cython (0.25.2)\n",
      "cytoolz (0.8.2)\n",
      "dask (0.13.0)\n",
      "datashape (0.5.4)\n",
      "decorator (4.0.11)\n",
      "dill (0.2.5)\n",
      "docutils (0.13.1)\n",
      "et-xmlfile (1.0.1)\n",
      "fastcache (1.0.2)\n",
      "Flask (0.12)\n",
      "Flask-Cors (3.0.2)\n",
      "gevent (1.2.1)\n",
      "greenlet (0.4.11)\n",
      "h5py (2.6.0)\n",
      "HeapDict (1.0.0)\n",
      "idna (2.2)\n",
      "imagesize (0.7.1)\n",
      "ipykernel (4.5.2)\n",
      "ipython (5.1.0)\n",
      "ipython-genutils (0.1.0)\n",
      "ipywidgets (5.2.2)\n",
      "isort (4.2.5)\n",
      "itsdangerous (0.24)\n",
      "jdcal (1.3)\n",
      "jedi (0.9.0)\n",
      "Jinja2 (2.9.5)\n",
      "jsonschema (2.5.1)\n",
      "jupyter (1.0.0)\n",
      "jupyter-client (4.4.0)\n",
      "jupyter-console (5.0.0)\n",
      "jupyter-core (4.2.1)\n",
      "lazy-object-proxy (1.2.2)\n",
      "llvmlite (0.15.0)\n",
      "locket (0.2.0)\n",
      "lxml (3.7.2)\n",
      "MarkupSafe (0.23)\n",
      "matplotlib (2.0.0)\n",
      "menuinst (1.4.4)\n",
      "mistune (0.7.3)\n",
      "mpmath (0.19)\n",
      "multipledispatch (0.4.9)\n",
      "mysql-connector (2.1.4)\n",
      "nbconvert (4.2.0)\n",
      "nbformat (4.2.0)\n",
      "networkx (1.11)\n",
      "nltk (3.2.2)\n",
      "nose (1.3.7)\n",
      "notebook (4.3.1)\n",
      "numba (0.30.1)\n",
      "numexpr (2.6.1)\n",
      "numpy (1.11.3)\n",
      "numpydoc (0.6.0)\n",
      "odo (0.5.0)\n",
      "openpyxl (2.4.1)\n",
      "pandas (0.19.2)\n",
      "partd (0.3.7)\n",
      "path.py (0.0.0)\n",
      "pathlib2 (2.2.0)\n",
      "patsy (0.4.1)\n",
      "pep8 (1.7.0)\n",
      "pickleshare (0.7.4)\n",
      "Pillow (4.0.0)\n",
      "pip (9.0.1)\n",
      "ply (3.9)\n",
      "prompt-toolkit (1.0.9)\n",
      "psutil (5.0.1)\n",
      "py (1.4.32)\n",
      "pyasn1 (0.1.9)\n",
      "pycosat (0.6.1)\n",
      "pycparser (2.17)\n",
      "pycrypto (2.6.1)\n",
      "pycurl (7.43.0)\n",
      "pyflakes (1.5.0)\n",
      "Pygments (2.1.3)\n",
      "pylint (1.6.4)\n",
      "pyOpenSSL (16.2.0)\n",
      "pyparsing (2.1.4)\n",
      "pytest (3.0.5)\n",
      "python-dateutil (2.6.0)\n",
      "pytz (2016.10)\n",
      "pywin32 (220)\n",
      "PyYAML (3.12)\n",
      "pyzmq (16.0.2)\n",
      "QtAwesome (0.4.3)\n",
      "qtconsole (4.2.1)\n",
      "QtPy (1.2.1)\n",
      "requests (2.12.4)\n",
      "rope-py3k (0.9.4.post1)\n",
      "scikit-image (0.12.3)\n",
      "scikit-learn (0.18.1)\n",
      "scipy (0.18.1)\n",
      "seaborn (0.7.1)\n",
      "setuptools (27.2.0)\n",
      "simplegeneric (0.8.1)\n",
      "singledispatch (3.4.0.3)\n",
      "six (1.10.0)\n",
      "snowballstemmer (1.2.1)\n",
      "sockjs-tornado (1.0.3)\n",
      "sphinx (1.5.1)\n",
      "spyder (3.1.2)\n",
      "SQLAlchemy (1.1.5)\n",
      "statsmodels (0.6.1)\n",
      "sympy (1.0)\n",
      "tables (3.2.2)\n",
      "toolz (0.8.2)\n",
      "tornado (4.4.2)\n",
      "traitlets (4.3.1)\n",
      "unicodecsv (0.14.1)\n",
      "virtualenv (15.1.0)\n",
      "wcwidth (0.1.7)\n",
      "Werkzeug (0.11.15)\n",
      "wheel (0.29.0)\n",
      "widgetsnbextension (1.2.6)\n",
      "win-unicode-console (0.5)\n",
      "wrapt (1.10.8)\n",
      "xlrd (1.0.0)\n",
      "XlsxWriter (0.9.6)\n",
      "xlwings (0.10.2)\n",
      "xlwt (1.2.0)\n"
     ]
    },
    {
     "name": "stderr",
     "output_type": "stream",
     "text": [
      "DEPRECATION: The default format will switch to columns in the future. You can use --format=(legacy|columns) (or define a format=(legacy|columns) in your pip.conf under the [list] section) to disable this warning.\n"
     ]
    }
   ],
   "source": [
    "!pip list"
   ]
  },
  {
   "cell_type": "code",
   "execution_count": 2,
   "metadata": {
    "collapsed": true
   },
   "outputs": [],
   "source": [
    "import sqlite3"
   ]
  },
  {
   "cell_type": "code",
   "execution_count": 3,
   "metadata": {
    "collapsed": true
   },
   "outputs": [],
   "source": [
    "db = sqlite3.connect('my.db')"
   ]
  },
  {
   "cell_type": "code",
   "execution_count": 4,
   "metadata": {
    "collapsed": true
   },
   "outputs": [],
   "source": [
    "cur = db.cursor()"
   ]
  },
  {
   "cell_type": "code",
   "execution_count": 5,
   "metadata": {
    "collapsed": false
   },
   "outputs": [
    {
     "data": {
      "text/plain": [
       "<sqlite3.Cursor at 0x50dfdc0>"
      ]
     },
     "execution_count": 5,
     "metadata": {},
     "output_type": "execute_result"
    }
   ],
   "source": [
    "sql = \"create table student(name text, age int)\"\n",
    "cur.execute(sql)"
   ]
  },
  {
   "cell_type": "code",
   "execution_count": 9,
   "metadata": {
    "collapsed": false
   },
   "outputs": [],
   "source": [
    "db.commit()\n",
    "db.close()"
   ]
  },
  {
   "cell_type": "code",
   "execution_count": 8,
   "metadata": {
    "collapsed": false
   },
   "outputs": [
    {
     "data": {
      "text/plain": [
       "['__class__',\n",
       " '__delattr__',\n",
       " '__dir__',\n",
       " '__doc__',\n",
       " '__eq__',\n",
       " '__format__',\n",
       " '__ge__',\n",
       " '__getattribute__',\n",
       " '__gt__',\n",
       " '__hash__',\n",
       " '__init__',\n",
       " '__init_subclass__',\n",
       " '__iter__',\n",
       " '__le__',\n",
       " '__lt__',\n",
       " '__ne__',\n",
       " '__new__',\n",
       " '__next__',\n",
       " '__reduce__',\n",
       " '__reduce_ex__',\n",
       " '__repr__',\n",
       " '__setattr__',\n",
       " '__sizeof__',\n",
       " '__str__',\n",
       " '__subclasshook__',\n",
       " 'arraysize',\n",
       " 'close',\n",
       " 'connection',\n",
       " 'description',\n",
       " 'execute',\n",
       " 'executemany',\n",
       " 'executescript',\n",
       " 'fetchall',\n",
       " 'fetchmany',\n",
       " 'fetchone',\n",
       " 'lastrowid',\n",
       " 'row_factory',\n",
       " 'rowcount',\n",
       " 'setinputsizes',\n",
       " 'setoutputsize']"
      ]
     },
     "execution_count": 8,
     "metadata": {},
     "output_type": "execute_result"
    }
   ],
   "source": [
    "dir(cur)"
   ]
  },
  {
   "cell_type": "code",
   "execution_count": 1,
   "metadata": {
    "collapsed": false
   },
   "outputs": [
    {
     "name": "stdout",
     "output_type": "stream",
     "text": [
      "create sucess\n"
     ]
    }
   ],
   "source": [
    "import sqlite3\n",
    "def createTable() :\n",
    "    try :\n",
    "        db = sqlite3.connect('my.db')\n",
    "        cur = db.cursor()\n",
    "        sql = \"create table student(name text, age int)\"\n",
    "        cur.execute(sql)\n",
    "        db.commit()\n",
    "        db.close()\n",
    "        print(\"create sucess\")\n",
    "    except Exception as err :\n",
    "        print('error ', err)\n",
    "        \n",
    "createTable() "
   ]
  },
  {
   "cell_type": "code",
   "execution_count": 2,
   "metadata": {
    "collapsed": false
   },
   "outputs": [
    {
     "name": "stdout",
     "output_type": "stream",
     "text": [
      "insert bulk sucess\n"
     ]
    }
   ],
   "source": [
    "import sqlite3\n",
    "\n",
    "        \n",
    "def insertTable() :\n",
    "    try :\n",
    "        db = sqlite3.connect('my.db')\n",
    "        cur = db.cursor()\n",
    "        sql = \"insert into student(name, age) values(?,?)\"\n",
    "        data = ('이순신',40)\n",
    "        cur.execute(sql,data)\n",
    "        db.commit()\n",
    "        db.close()\n",
    "        print(\"insert sucess\")\n",
    "    except Exception as err :\n",
    "        print('error ', err)\n",
    "\n",
    "def bulk_insertTable() :\n",
    "    try :\n",
    "        db = sqlite3.connect('my.db')\n",
    "        cur = db.cursor()\n",
    "        sql = \"insert into student(name, age) values(?,?)\"\n",
    "        data = [('김철수7',50),('김철수8',60),('김철수9',70)]\n",
    "        cur.executemany(sql,data)\n",
    "        db.commit()\n",
    "        db.close()\n",
    "        print(\"insert bulk sucess\")\n",
    "    except Exception as err :\n",
    "        print('error ', err)\n",
    "        \n",
    "#insert        \n",
    "#insertTable()\n",
    "#bulk insert\n",
    "bulk_insertTable()"
   ]
  },
  {
   "cell_type": "code",
   "execution_count": 6,
   "metadata": {
    "collapsed": false
   },
   "outputs": [
    {
     "name": "stdout",
     "output_type": "stream",
     "text": [
      "[('김철수7', 50), ('김철수8', 60), ('김철수9', 70)]\n",
      "이름: 김철수7 나이: 50\n",
      "이름: 김철수8 나이: 60\n",
      "이름: 김철수9 나이: 70\n",
      "select fetch all sucess\n"
     ]
    }
   ],
   "source": [
    "import sqlite3\n",
    "def selectTable() :\n",
    "    try :\n",
    "        db = sqlite3.connect('my.db')\n",
    "        cur = db.cursor()\n",
    "        sql = \"select * from student\"\n",
    "        cur.execute(sql)\n",
    "        data = cur.fetchall()\n",
    "        print(data)\n",
    "        for dt in data :\n",
    "            print(\"이름: %s 나이: %d\" % (dt[0], dt[1]))\n",
    "        db.close()\n",
    "        print(\"select fetch all sucess\")\n",
    "    except Exception as err :\n",
    "        print('error ', err)\n",
    "        \n",
    "selectTable()"
   ]
  },
  {
   "cell_type": "code",
   "execution_count": 5,
   "metadata": {
    "collapsed": false
   },
   "outputs": [
    {
     "name": "stdout",
     "output_type": "stream",
     "text": [
      "이름: 김철수7 나이: 50\n",
      "이름: 김철수8 나이: 60\n",
      "이름: 김철수9 나이: 70\n",
      "select cur sucess\n"
     ]
    }
   ],
   "source": [
    "import sqlite3\n",
    "def select_curTable() :\n",
    "    try :\n",
    "        db = sqlite3.connect('my.db')\n",
    "        cur = db.cursor()\n",
    "        sql = \"select * from student\"\n",
    "        cur.execute(sql)\n",
    "        \n",
    "        for dt in cur :\n",
    "            print(\"이름: %s 나이: %d\" % (dt[0], dt[1]))\n",
    "        db.close()\n",
    "        print(\"select cur sucess\")\n",
    "    except Exception as err :\n",
    "        print('error ', err)\n",
    "        \n",
    "select_curTable()"
   ]
  },
  {
   "cell_type": "code",
   "execution_count": 8,
   "metadata": {
    "collapsed": false
   },
   "outputs": [
    {
     "name": "stdout",
     "output_type": "stream",
     "text": [
      " delete sucess\n"
     ]
    }
   ],
   "source": [
    "import sqlite3\n",
    "def deleteTable() :\n",
    "    try :\n",
    "        db = sqlite3.connect('my.db')\n",
    "        cur = db.cursor()\n",
    "        sql = \"delete from student where age= ?\"\n",
    "        data = (40,)\n",
    "        cur.execute(sql,data)\n",
    "        \n",
    "        db.commit()\n",
    "        db.close()\n",
    "        print(\" delete sucess\")\n",
    "    except Exception as err :\n",
    "        print('error ', err)\n",
    "        \n",
    "deleteTable()"
   ]
  },
  {
   "cell_type": "code",
   "execution_count": 17,
   "metadata": {
    "collapsed": false
   },
   "outputs": [
    {
     "name": "stdout",
     "output_type": "stream",
     "text": [
      " update sucess\n"
     ]
    }
   ],
   "source": [
    "import sqlite3\n",
    "def updateTable() :\n",
    "    try :\n",
    "        db = sqlite3.connect('my.db')\n",
    "        cur = db.cursor()\n",
    "        sql = \"update student set name=? where age=?\"\n",
    "        data =(\"파이썬2\",60)\n",
    "        cur.execute(sql,data)\n",
    "        \n",
    "        db.commit()\n",
    "        db.close()\n",
    "        print(\" update sucess\")\n",
    "    except Exception as err :\n",
    "        print('error ', err)\n",
    "        \n",
    "updateTable()"
   ]
  },
  {
   "cell_type": "code",
   "execution_count": 8,
   "metadata": {
    "collapsed": false
   },
   "outputs": [
    {
     "name": "stdout",
     "output_type": "stream",
     "text": [
      "Collecting mysql-connector\n",
      "  Downloading mysql-connector-2.1.4.zip (355kB)\n",
      "Building wheels for collected packages: mysql-connector\n",
      "  Running setup.py bdist_wheel for mysql-connector: started\n",
      "  Running setup.py bdist_wheel for mysql-connector: finished with status 'done'\n",
      "  Stored in directory: C:\\Users\\06411\\AppData\\Local\\pip\\Cache\\wheels\\bc\\4c\\f0\\522b6d8ef8c6256057bbdb60d7ce37af99dc09d4d1414bf62d\n",
      "Successfully built mysql-connector\n",
      "Installing collected packages: mysql-connector\n",
      "Successfully installed mysql-connector-2.1.4\n"
     ]
    }
   ],
   "source": [
    "!pip install mysql-connector "
   ]
  },
  {
   "cell_type": "code",
   "execution_count": 9,
   "metadata": {
    "collapsed": true
   },
   "outputs": [],
   "source": [
    "import mysql.connector as mysql\n",
    "# 기본 port는 부여하지 않아도 됨\n",
    "config={'user': 'root', 'password':'1234',\n",
    "        'host':'127.0.0.1', 'port':'3307','database':'python'}\n",
    "db = mysql.connect( **config)"
   ]
  },
  {
   "cell_type": "code",
   "execution_count": 28,
   "metadata": {
    "collapsed": true
   },
   "outputs": [],
   "source": [
    "import mysql.connector as mysql\n",
    "# 기본 port는 부여하지 않아도 됨\n",
    "config={'user': 'root', 'password':'1234',\n",
    "        'host':'127.0.0.1', 'port':'3307','database':'python'}\n",
    "db = mysql.connect( **config)"
   ]
  },
  {
   "cell_type": "code",
   "execution_count": 10,
   "metadata": {
    "collapsed": false
   },
   "outputs": [
    {
     "name": "stdout",
     "output_type": "stream",
     "text": [
      "insert sucess\n"
     ]
    }
   ],
   "source": [
    "import mysql.connector as mysql\n",
    "\n",
    "def insertTable() :\n",
    "    try :\n",
    "        # 기본 port는 부여하지 않아도 됨\n",
    "        config={'user': 'root', 'password':'1234',\n",
    "        'host':'127.0.0.1', 'port':'3307','database':'python'}\n",
    "        db = mysql.connect( **config)\n",
    "        \n",
    "        cur = db.cursor()\n",
    "        sql = \"insert into student(name, age, birth) values(%s,%s,%s)\"\n",
    "        data = ('이순신', 40 , \"1980-02-11\")\n",
    "        cur.execute(sql,data)\n",
    "        db.commit()\n",
    "        db.close()\n",
    "        print(\"insert sucess\")\n",
    "    except Exception as err :\n",
    "        print('error ', err)\n",
    "        \n",
    "insertTable()"
   ]
  },
  {
   "cell_type": "code",
   "execution_count": 11,
   "metadata": {
    "collapsed": false
   },
   "outputs": [
    {
     "name": "stdout",
     "output_type": "stream",
     "text": [
      "이름: 이순신 나이: 40 일자 1980-02-11 \n",
      "select cur sucess\n"
     ]
    }
   ],
   "source": [
    "import mysql.connector as mysql\n",
    "\n",
    "def select_curTable() :\n",
    "    try :\n",
    "         # 기본 port는 부여하지 않아도 됨\n",
    "        config={'user': 'root', 'password':'1234',\n",
    "        'host':'127.0.0.1', 'port':'3307','database':'python'}\n",
    "        db = mysql.connect( **config)\n",
    "        cur = db.cursor()\n",
    "        sql = \"select * from student\"\n",
    "        cur.execute(sql)\n",
    "        \n",
    "        for dt in cur :\n",
    "            print(\"이름: %s 나이: %d 일자 %s \" % (dt[0], dt[1], dt[2]))\n",
    "        db.close()\n",
    "        print(\"select cur sucess\")\n",
    "    except Exception as err :\n",
    "        print('error ', err)\n",
    "        \n",
    "select_curTable()"
   ]
  },
  {
   "cell_type": "code",
   "execution_count": 37,
   "metadata": {
    "collapsed": false
   },
   "outputs": [
    {
     "name": "stdout",
     "output_type": "stream",
     "text": [
      "insert bulk sucess\n"
     ]
    }
   ],
   "source": [
    "import mysql.connector as mysql\n",
    "\n",
    "def bulk_insertTable() :\n",
    "    try :\n",
    "         # 기본 port는 부여하지 않아도 됨\n",
    "        config={'user': 'root', 'password':'1234',\n",
    "        'host':'127.0.0.1', 'port':'3307','database':'python'}\n",
    "        db = mysql.connect( **config)\n",
    "        cur = db.cursor()\n",
    "        sql = \"insert into student(name, age, birth) values(%s,%s,%s)\"\n",
    "        data = [('김철수7',50,'2000-09-22'),('김철수8',60,\"1945-08-11\"),\n",
    "                ('김철수9',70,\"1935-08-11\")]\n",
    "        cur.executemany(sql,data)\n",
    "        db.commit()\n",
    "        db.close()\n",
    "        print(\"insert bulk sucess\")\n",
    "    except Exception as err :\n",
    "        print('error ', err)\n",
    "        \n",
    "bulk_insertTable()"
   ]
  },
  {
   "cell_type": "code",
   "execution_count": 39,
   "metadata": {
    "collapsed": false
   },
   "outputs": [
    {
     "name": "stdout",
     "output_type": "stream",
     "text": [
      " update sucess\n"
     ]
    }
   ],
   "source": [
    "import mysql.connector as mysql\n",
    "\n",
    "def updateTable() :\n",
    "    try :\n",
    "         # 기본 port는 부여하지 않아도 됨\n",
    "        config={'user': 'root', 'password':'1234',\n",
    "        'host':'127.0.0.1', 'port':'3307','database':'python'}\n",
    "        db = mysql.connect( **config)\n",
    "        cur = db.cursor()\n",
    "        sql = \"update student set name=%s where age=%s\"\n",
    "        data =(\"파이썬2\",60)\n",
    "        cur.execute(sql,data)\n",
    "        \n",
    "        db.commit()\n",
    "        db.close()\n",
    "        print(\" update sucess\")\n",
    "    except Exception as err :\n",
    "        print('error ', err)\n",
    "        \n",
    "updateTable()"
   ]
  },
  {
   "cell_type": "code",
   "execution_count": 45,
   "metadata": {
    "collapsed": false
   },
   "outputs": [
    {
     "name": "stdout",
     "output_type": "stream",
     "text": [
      "[('이순신', 40, datetime.date(1980, 2, 11)), ('김철수7', 50, datetime.date(2000, 9, 22)), ('김철수9', 70, datetime.date(1935, 8, 11))]\n",
      "이름: 이순신 나이: 40  년: 1980 월: 2 일:11 \n",
      "이름: 김철수7 나이: 50  년: 2000 월: 9 일:22 \n",
      "이름: 김철수9 나이: 70  년: 1935 월: 8 일:11 \n",
      "select fetch all sucess\n"
     ]
    }
   ],
   "source": [
    "import mysql.connector as mysql\n",
    "def selectTable() :\n",
    "    try :\n",
    "         # 기본 port는 부여하지 않아도 됨\n",
    "        config={'user': 'root', 'password':'1234',\n",
    "        'host':'127.0.0.1', 'port':'3307','database':'python'}\n",
    "        db = mysql.connect( **config)\n",
    "        cur = db.cursor()\n",
    "        sql = \"select * from student\"\n",
    "        cur.execute(sql)\n",
    "        data = cur.fetchall()\n",
    "        print(data)\n",
    "        for dt in data :\n",
    "            print(\"이름: %s 나이: %d  년: %s 월: %s 일:%s \" % (dt[0], dt[1], \n",
    "                                              dt[2].year, dt[2].month, dt[2].day))\n",
    "        db.close()\n",
    "        print(\"select fetch all sucess\")\n",
    "    except Exception as err :\n",
    "        print('error ', err)\n",
    "        \n",
    "selectTable()"
   ]
  },
  {
   "cell_type": "code",
   "execution_count": 44,
   "metadata": {
    "collapsed": false
   },
   "outputs": [
    {
     "name": "stdout",
     "output_type": "stream",
     "text": [
      " delete sucess\n"
     ]
    }
   ],
   "source": [
    "import mysql.connector as mysql\n",
    "def deleteTable() :\n",
    "    try :\n",
    "         # 기본 port는 부여하지 않아도 됨\n",
    "        config={'user': 'root', 'password':'1234',\n",
    "        'host':'127.0.0.1', 'port':'3307','database':'python'}\n",
    "        cur = db.cursor()\n",
    "        sql = \"delete from student where age= %s\"\n",
    "        data = (60,)\n",
    "        cur.execute(sql,data)\n",
    "        \n",
    "        db.commit()\n",
    "        db.close()\n",
    "        print(\" delete sucess\")\n",
    "    except Exception as err :\n",
    "        print('error ', err)\n",
    "        \n",
    "deleteTable()"
   ]
  },
  {
   "cell_type": "code",
   "execution_count": 12,
   "metadata": {
    "collapsed": false
   },
   "outputs": [
    {
     "name": "stdout",
     "output_type": "stream",
     "text": [
      "C:\\Users\\06411\\Documents\n"
     ]
    }
   ],
   "source": [
    "!cd"
   ]
  },
  {
   "cell_type": "code",
   "execution_count": null,
   "metadata": {
    "collapsed": true
   },
   "outputs": [],
   "source": []
  }
 ],
 "metadata": {
  "kernelspec": {
   "display_name": "Python [default]",
   "language": "python",
   "name": "python3"
  },
  "language_info": {
   "codemirror_mode": {
    "name": "ipython",
    "version": 3
   },
   "file_extension": ".py",
   "mimetype": "text/x-python",
   "name": "python",
   "nbconvert_exporter": "python",
   "pygments_lexer": "ipython3",
   "version": "3.5.2"
  }
 },
 "nbformat": 4,
 "nbformat_minor": 2
}
